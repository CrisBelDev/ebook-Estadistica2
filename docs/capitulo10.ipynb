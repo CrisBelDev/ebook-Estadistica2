{
 "cells": [
  {
   "cell_type": "markdown",
   "metadata": {},
   "source": [
    "#\n",
    "<head>\n",
    "    <link rel=\"preconnect\" href=\"https://fonts.googleapis.com\">\n",
    "    <link rel=\"preconnect\" href=\"https://fonts.gstatic.com\" crossorigin>\n",
    "    <link href=\"https://fonts.googleapis.com/css2?family=Poppins:ital,wght@0,100;0,300;1,100&display=swap\" rel=\"stylesheet\">\n",
    "</head>\n",
    "\n",
    "<style>\n",
    "    div{\n",
    "        font-family: 'Poppins', sans-serif;\n",
    "    }\n",
    "    /*ESTILOS PORTADA DE CAPITULO*/\n",
    "    #capitulo {\n",
    "    text-align: center;\n",
    "    line-height: 100px;\n",
    "    height: 100px;\n",
    "    background-color: #009929;\n",
    "    color: white;\n",
    "    font-size: 50px;\n",
    "    padding: 5px;\n",
    "    text-shadow: 2px 2px 2px rgba(0, 0, 0, 0.5); /* Sombra del texto */\n",
    "    }\n",
    "\n",
    "    #numero {\n",
    "        font-size: 90px;\n",
    "    }\n",
    "\n",
    "    #titulo {\n",
    "        height: 100px;\n",
    "        color: black;\n",
    "        text-align:justify;\n",
    "        font-size: 40px;\n",
    "        margin-right:35px;\n",
    "        margin-left:20px;\n",
    "        margin-top: 20px;\n",
    "        margin-bottom:20px;\n",
    "        font-weight: bold;\n",
    "        text-transform: uppercase;\n",
    "        margin-bottom: 30px;\n",
    "    }\n",
    "\n",
    "    #contenido {\n",
    "        width: 100%;\n",
    "        background-color: #009929;\n",
    "        text-align: left;\n",
    "        color: #fff;\n",
    "        float: left; \n",
    "        padding: 5px; \n",
    "        padding-left:10px;\n",
    "        margin-top:80px;\n",
    "        margin-bottom: 10px;\n",
    "        font-size: 25px;\n",
    "    }\n",
    "    #separador {\n",
    "        width: 100%;\n",
    "        height: 2px; \n",
    "        background-color: #009929; \n",
    "        border: none;\n",
    "    } #indice {\n",
    "            column-count: 2; /* Divide el contenido en dos columnas */\n",
    "            column-gap: 20px; /* Espaciado entre columnas */\n",
    "            margin-top: 20px; /* Espaciado superior del índice */\n",
    "        }\n",
    "    #indice-container {\n",
    "        display: inline-block; \n",
    "    }\n",
    "    #indice-container p{\n",
    "        display: flex;\n",
    "    }\n",
    "    hr {\n",
    "    border-top: 2px solid #009929; /* Línea negra de 1px de grosor */\n",
    "}\n",
    "\n",
    "    #indice ul {\n",
    "        list-style: none; \n",
    "        padding: 0; \n",
    "    }\n",
    "    #indice li {\n",
    "        break-inside: avoid; /* Evita que los elementos de la lista se separen entre columnas */\n",
    "    }\n",
    "    /* FIN ESTILOS PORTADA DE CAPITULO*/\n",
    "    /*ESTILOS TITULOS DEL CAPITULO*/\n",
    "    .indice_titulo{\n",
    "        display:flex;\n",
    "        color: #009929;\n",
    "    }\n",
    "    .indice_titulo span{\n",
    "        display: inline-block;\n",
    "        margin-top: 5px;\n",
    "        font-weight: normal;\n",
    "    }\n",
    "    span.section-number {\n",
    "        background-color: #009929;\n",
    "        border-radius: 50%;\n",
    "        color: white;\n",
    "        font-weight: bold;\n",
    "        padding: 0.5em;\n",
    "        display: inline-flex;\n",
    "        justify-content: center;\n",
    "        align-items: center;\n",
    "        width: 1.5em;\n",
    "        height: 1.5em;\n",
    "        font-size: 1em;\n",
    "        margin-right: 0.5em;\n",
    "    }\n",
    "    /* FIN ESTILOS TITULOS DEL CAPITULO*/\n",
    "    .bold-verde{\n",
    "        color: #009929;\n",
    "        font-weight: bold;\n",
    "    }\n",
    "\n",
    "</style>\n",
    "<div id=\"capitulo\">CAPITULO <span id=\"numero\">10</span></div>\n",
    "<div id=\"titulo\"> Inferencia estadística de medias y proporciones con 2 poblaciones</div>\n",
    "<div id=\"contenido\">Contenido del capitulo</div>\n",
    "<hr id=\"separador\">\n",
    "<div id=\"indice\">\n",
    "    <div id=\"indice-container\">\n",
    "        <p><span style=\"color: #009929;padding-right:5px;\">10.1.</span>  <strong>INFERENCIAS ACERCA DE LA DIFERENCIA ENTRE DOS MEDIAS POBLACIONALES: (\\( \\sigma_1\\) Y  \\(\\sigma_2\\) CONOCIDAS)</strong></p>\n",
    "        <ul>\n",
    "            <li>Estimación por intervalo para: \\(\\mu_1 - \\mu_2\\)  </li>\n",
    "            <li>Pruebas de hipótesis acerca de \\(\\mu_1 - \\mu_2\\)</li>\n",
    "      <li>Consejo práctico</li> \n",
    "        </ul>\n",
    "    </div>\n",
    "    <div id=\"indice-container\">\n",
    "        <p><span style=\"color: #009929;padding-right:5px;\">10.2</span>  <strong>INFERENCIAS ACERCA DE LA DIFERENCIA ENTRE DOS MEDIAS POBLACIONALES:\\( \\sigma_1\\) y  \\(\\sigma_2\\) DESCONOCIDAS</strong></p>\n",
    "        <ul>\n",
    "            <li>Estimación por intervalo para: \\(\\mu_1 - \\mu_2\\)  </li>\n",
    "            <li>Pruebas de hipótesis acerca de \\(\\mu_1 - \\mu_2\\)</li>\n",
    "            <li>Consejo práctico</li> \n",
    "        </ul>\n",
    "    </div>\n",
    "    <div id=\"indice-container\">\n",
    "        <p><span style=\"color: #009929;padding-right:5px;\">10.3</span>  <strong>INFERENCIAS ACERCA DE LA DIFERENCIA ENTRE DOS MEDIAS POBLACIONALES: MUESTRAS PAREADAS</strong></p>\n",
    "    </div>\n",
    "    <div id=\"indice-container\">\n",
    "        <p><span style=\"color: #009929;padding-right:5px;\">10.4</span>  <strong>INFERENCIAS ACERCA DE LA DIFERENCIA ENTRE DOS PROPORCIONES POBLACIONALES</strong></p>\n",
    "        <ul>\n",
    "            <li>Estimación por intervalo para: \\(p_1 - p_2\\)  </li>\n",
    "            <li>Pruebas de hipótesis acerca de \\(p_1 - p_2\\)</li>\n",
    "        </ul>\n",
    "    </div>\n",
    "</div>"
   ]
  },
  {
   "cell_type": "markdown",
   "metadata": {},
   "source": [
    "## <div class = \"indice_titulo\"><span class=\"section-number\">10.1</span> **Inferencias acerca de la diferencia entre dos medias poblacionales: $\\sigma_1$ y $\\sigma_2$ conocidas**</div>"
   ]
  },
  {
   "cell_type": "markdown",
   "metadata": {},
   "source": [
    "- Sean $\\sigma_1$ y $\\sigma_2$ las medias poblacionales a estudiar.\n",
    "- La inferencia se realiza sobre la diferencia de las medias $\\mu_1 - \\mu_2$.\n",
    "- Se toma un tamaño de muestra para cada población (muestra aleatoria simple e independiente) $n_1$ y $n_2$ respectivamente.\n",
    "- Suponga que $\\sigma_1$ y $\\sigma_2$ son conocidas.\n",
    "\n",
    "Las medias poblacionales son teóricas. En la práctica se calculan las medias muestrales $\\bar{x_1}$ y $\\bar{x_2}$."
   ]
  },
  {
   "cell_type": "markdown",
   "metadata": {},
   "source": [
    "### <div class = \"indice_titulo\">**Estimación por intervalo para $\\mu_1 - \\mu_2$**</div>"
   ]
  },
  {
   "cell_type": "markdown",
   "metadata": {},
   "source": [
    "**Análisis Demográfico de Clientes en Greystone Department Stores**\n",
    "\n",
    "- Introducción\n",
    "  \n",
    "  - Greystone Department Stores ha observado una variación en los patrones de venta entre sus tiendas en el centro de la ciudad y en un centro comercial suburbano en Buffalo, Nueva York. Se sospecha que las diferencias demográficas entre los clientes de las dos tiendas, como la edad, educación e ingreso, pueden influir en este fenómeno.\n",
    "\n",
    "- Objetivo del Estudio\n",
    "  \n",
    "  - El estudio tiene como objetivo investigar si hay una diferencia significativa en las edades medias de los clientes entre las dos tiendas.\n",
    "\n",
    "- Metodología\n",
    "  \n",
    "  - Se identifican dos poblaciones de clientes basadas en su ubicación de compra.\n",
    "  - La estimación puntual de la diferencia entre las medias poblacionales se obtiene a través de la diferencia entre las medias muestrales, $ \\bar{X}_1 - \\bar{X}_2 $.\n",
    "  - El error estándar del estimador puntual, que indica la variabilidad en la distribución de muestreo del estimador, se calcula como $ \\sigma_{\\bar{X}_1 - \\bar{X}_2} = \\sqrt{\\frac{\\sigma^2_1}{n_1} + \\frac{\\sigma^2_2}{n_2}} $.\n",
    "  - Se asume una distribución normal de la diferencia entre las medias muestrales, especialmente si las poblaciones tienen una distribución normal o los tamaños de muestra son grandes.\n",
    "\n",
    "- Conclusión Esperada\n",
    "  \n",
    "  - La investigación proporcionará una estimación de la diferencia entre las medias de edad de los clientes, lo que podría permitir ajustar las estrategias de marketing y mejorar la selección de productos para cada tienda según su clientela.\n"
   ]
  },
  {
   "cell_type": "markdown",
   "metadata": {},
   "source": [
    "<style>\n",
    "        .formulas {\n",
    "            background-color: #D4F8B7;\n",
    "            padding: 10px;\n",
    "            box-shadow: 0 4px 8px rgba(0, 0, 0, 0.1);\n",
    "            color: #333\n",
    "        }\n",
    "        .formula-cuadro {\n",
    "            display: flex;\n",
    "            align-items: center;\n",
    "        }\n",
    "\n",
    "        .titulo-formula {\n",
    "            font-size: 15px;\n",
    "            margin-bottom: 10px;\n",
    "            font-weight:bold;\n",
    "            text-transform: uppercase;\n",
    "        }\n",
    "\n",
    "        .formula {\n",
    "            width: 90%;\n",
    "            margin-right: 10px;\n",
    "\n",
    "        }\n",
    "\n",
    "        .indice-formula {\n",
    "            color: #009929;\n",
    "            \n",
    "        }\n",
    "       \n",
    "</style>\n",
    "    \n",
    "<div class=\"formulas\">\n",
    "        <div class=\"titulo-formula\">ESTIMADOR PUNTUAL DE LA DIFERENCIA ENTRE DOS MEDIAS POBLACIONALES</div>\n",
    "        <div class=\"formula-cuadro\">\n",
    "            <div class=\"formula\">\n",
    "                $$\\bar{x}_1 - \\bar{x}_2$$\n",
    "            </div>\n",
    "        <div class=\"indice-formula\">(10.1)</div>\n",
    "        </div>\n",
    "    </div>"
   ]
  },
  {
   "cell_type": "markdown",
   "metadata": {},
   "source": [
    "<div class=\"formulas\">\n",
    "        <div class=\"titulo-formula\">ERROR ESTÁNDAR DE $\\bar{x}_1 - \\bar{x}_2$</div>\n",
    "        <div class=\"formula-cuadro\">\n",
    "            <div class=\"formula\">\n",
    "                $$\\sigma_{\\bar{x}_1 - \\bar{x}_2} = \\sqrt{\\frac{\\sigma_1^2}{n_1} + \\frac{\\sigma_2^2}{n_2}}$$\n",
    "            </div>\n",
    "        <div class=\"indice-formula\">(10.2)</div>\n",
    "        </div>\n",
    "</div>"
   ]
  },
  {
   "cell_type": "markdown",
   "metadata": {},
   "source": [
    "<div class=\"formulas\">\n",
    "        <div class=\"titulo-formula\">MARGEN DE ERROR</div>\n",
    "        <div class=\"formula-cuadro\">\n",
    "            <div class=\"formula\">\n",
    "                $$\\text{Margen de error} = z_{\\alpha/2} \\sigma_{\\bar{x}_1 - \\bar{x}_2} = z_{\\alpha/2} \\sqrt{\\frac{\\sigma_1^2}{n_1} + \\frac{\\sigma_2^2}{n_2}}$$\n",
    "            </div>\n",
    "        <div class=\"indice-formula\">(10.3)</div>\n",
    "        </div>\n",
    "</div>"
   ]
  },
  {
   "cell_type": "markdown",
   "metadata": {},
   "source": [
    "<div class=\"formulas\">\n",
    "        <div class=\"titulo-formula\">ESTIMACIÓN POR INTERVALO DE LA DIFERENCIA ENTRE DOS MEDIAS POBLACIONALES $\\sigma_1$ Y $\\sigma_2$ CONOCIDAS:</div>\n",
    "        <div class=\"formula-cuadro\">\n",
    "            <div class=\"formula\">\n",
    "                $$\\bar{x}_1 - \\bar{x}_2 \\pm z_{\\alpha/2} \\sqrt{\\frac{\\sigma_1^2}{n_1} + \\frac{\\sigma_2^2}{n_2}}$$\n",
    "            </div>\n",
    "        <div class=\"indice-formula\">(10.4)</div>\n",
    "        </div>\n",
    "</div>"
   ]
  },
  {
   "cell_type": "markdown",
   "metadata": {},
   "source": [
    "___\n",
    "**Estimación por Intervalo para Greystone Department Stores**\n",
    "\n",
    "- Resumen de Datos\n",
    "  - **Tienda del centro de la ciudad**: $n_1 = 36$, $\\bar{x}_1 = 40$ años\n",
    "  - **Tienda suburbana**: $n_2 = 49$, $\\bar{x}_2 = 35$ años\n",
    "  - **Desviaciones estándar conocidas**: $\\sigma_1 = 9$ años, $\\sigma_2 = 10$ años\n",
    "\n",
    "- Estimación Puntual\n",
    "  - La diferencia entre las medias muestrales es $\\bar{x}_1 - \\bar{x}_2 = 5$ años.\n",
    "\n",
    "- Error Estándar y Margen de Error\n",
    "\n",
    "  - Con un 95% de confianza y $z_{\\alpha/2} = z_{0.025} = 1.96$, el error estándar y el margen de error se calculan como:\n",
    "\n",
    "$$\n",
    "\\bar{x}_1 - \\bar{x}_2 \\pm z_{\\alpha/2} \\sqrt{\\frac{\\sigma_1^2}{n_1} + \\frac{\\sigma_2^2}{n_2}} = 40 - 35 \\pm 1.96 \\sqrt{\\frac{9^2}{36} + \\frac{10^2}{49}}\n",
    "$$\n",
    "\n",
    "  - Esto resulta en un margen de error de $4.06$ y un intervalo de confianza al 95% para la diferencia entre las medias poblacionales de:\n",
    "\n",
    "$$\n",
    "5 \\pm 4.06\n",
    "$$\n",
    "\n",
    "  - Lo que nos da un intervalo de $0.94$ a $9.06$ años.\n",
    "___\n"
   ]
  },
  {
   "cell_type": "markdown",
   "metadata": {},
   "source": [
    "### <div class = \"indice_titulo\">**Pruebas de hipótesis acerca de $\\mu_1 - \\mu_2$**</div>\n",
    "Ahora se verán las pruebas de hipótesis acerca de la diferencia entre dos medias poblacionales. \n",
    "$D_0$ denota la diferencia hipotética entre $\\mu_1$ y $\\mu_2$. \n",
    "Las tres formas que puede adoptar una prueba de hipótesis son las siguientes:"
   ]
  },
  {
   "cell_type": "markdown",
   "metadata": {},
   "source": [
    "<div class=\"formulas\">\n",
    "        <div class=\"formula-cuadro\">\n",
    "            <div class=\"formula\">\n",
    "                $$ H_0 : \\mu_1 - \\mu_2 \\geq D_0 \\quad H_0: \\mu_1 - \\mu_2\\leq D_0 \\quad H_0: \\mu_1 - \\mu_2 = D_0$$\n",
    "$$ H_a : \\mu_1 - \\mu_2 < D_0 \\quad H_a: \\mu_1 - \\mu_2 > D_0 \\quad H_a: \\mu_1 - \\mu_2 \\neq D_0$$\n",
    "            </div>\n",
    "        </div>\n",
    "    </div>"
   ]
  },
  {
   "cell_type": "markdown",
   "metadata": {},
   "source": [
    "<div class=\"formulas\">\n",
    "        <div class=\"titulo-formula\">ESTADÍSTICO DE PRUEBA PARA PRUEBAS DE HIPÓTESIS ACERCA DE $\\mu_1 - \\mu_2$: $\\sigma_1$  Y  $\\sigma_2 $ CONOCIDAS</div>\n",
    "        <div class=\"formula-cuadro\">\n",
    "            <div class=\"formula\">\n",
    "                $$z = \\frac{(\\bar{x}_1 - \\bar{x}_2) - D_0}{\\sqrt{\\frac{\\sigma^2_1}{n_1} + \\frac{\\sigma^2_2}{n_2}}}$$\n",
    "            </div>\n",
    "        <div class=\"indice-formula\">(10.5)</div>\n",
    "        </div>\n",
    "</div>"
   ]
  },
  {
   "cell_type": "markdown",
   "metadata": {},
   "source": [
    "El estudio se centra en comparar la calidad educativa entre dos centros utilizando un examen estandarizado. Se define la media de las puntuaciones del centro A como $\\mu_1$ y del centro B como $\\mu_2$. La hipótesis nula planteada es $\\mu_1 - \\mu_2 = 0$, indicando que no hay diferencia en la calidad de educación entre los centros. Un rechazo de esta hipótesis implicaría una diferencia significativa en la calidad educativa, llevando a una investigación más profunda sobre las causas de esta discrepancia.\n"
   ]
  },
  {
   "cell_type": "markdown",
   "metadata": {},
   "source": [
    "<div class=\"formulas\">\n",
    "        <div class=\"formula-cuadro\">\n",
    "            <div class=\"formula\">\n",
    "                $$H_0: \\mu_1 - \\mu_2 = 0$$\n",
    "$$H_a: \\mu_1 - \\mu_2 \\neq 0$$\n",
    "            </div>\n",
    "        </div>\n",
    "</div>"
   ]
  },
  {
   "cell_type": "markdown",
   "metadata": {},
   "source": [
    "En un estudio con exámenes estandarizados, se ha encontrado consistentemente una desviación estándar de aproximadamente 10 puntos. Se asume que las desviaciones estándar poblacionales son $\\sigma_1 = \\sigma_2 = 10$. Con un nivel de significancia $\\alpha = 0.05$, se recolectaron muestras de 30 estudiantes del centro A y 40 del centro B, con medias muestrales de $\\bar{x}_1 = 82$ y $\\bar{x}_2 = 78$. La pregunta clave es si hay una diferencia estadísticamente significativa entre las medias poblacionales de los dos centros, lo cual se determinará usando la ecuación (10.5).\n"
   ]
  },
  {
   "cell_type": "markdown",
   "metadata": {},
   "source": [
    "<div class=\"formulas\">\n",
    "        <div class=\"formula-cuadro\">\n",
    "            <div class=\"formula\">\n",
    "                $$\n",
    "z = \\frac{(\\bar{x}_1 - \\bar{x}_2) - D_0}{\\sqrt{\\frac{\\sigma^2_1}{n_1} + \\frac{\\sigma^2_2}{n_2}}} = \\frac{(82 - 78) - 0}{\\sqrt{\\frac{10^2}{30} + \\frac{10^2}{40}}} = 1.66\n",
    "$$\n",
    "            </div>\n",
    "        </div>\n",
    "</div>"
   ]
  },
  {
   "cell_type": "markdown",
   "metadata": {},
   "source": [
    "### <div class = \"indice_titulo\">**Resultados de la Prueba de Hipótesis**</div>\n",
    "En el análisis de la calidad educativa entre dos centros, se empleó una prueba de hipótesis de dos colas con un nivel de significancia de 0.05. El estadístico de prueba calculado fue $z = 1.66$. Utilizando la distribución normal estándar, se obtuvo un valor-p de 0.0970, que es mayor que $\\alpha$, indicando que no hay suficiente evidencia para rechazar la hipótesis nula. Por lo tanto, no se observa una diferencia estadísticamente significativa en la calidad de los centros de enseñanza.\n",
    "\n",
    "Se puede concluir que, tanto por el método del valor-p como por el método del valor crítico, los datos no muestran diferencias significativas en la calidad educativa entre los dos centros analizados.\n",
    "\n",
    "Referencia: Para los cálculos del estadístico de prueba y la interpretación de resultados, véase la ecuación (10.5) y las reglas de rechazo para pruebas de una cola presentadas en el capítulo 9."
   ]
  },
  {
   "cell_type": "markdown",
   "metadata": {},
   "source": [
    "### <div class = \"indice_titulo\">**Consejo Práctico**</div>\n",
    "Para estimaciones por intervalo y pruebas de hipótesis, se recomienda que las muestras aleatorias sean de tamaño $n_1 \\geq 30$ y $n_2 \\geq 30$. En situaciones donde el tamaño de la muestra es menor a 30, es crucial asegurarse de que las distribuciones de las poblaciones sean aproximadamente normales para proceder con el análisis.\n",
    "___"
   ]
  },
  {
   "cell_type": "markdown",
   "metadata": {},
   "source": [
    "<style>\n",
    "    .ejercicios{\n",
    "        color:white;\n",
    "        background-color:#009929;\n",
    "        padding-left:20px;\n",
    "    }\n",
    "</style>\n",
    "### <div class = \"ejercicios\">Ejercicios</div>"
   ]
  },
  {
   "cell_type": "markdown",
   "metadata": {},
   "source": [
    "<span style=\"color: #009929;\">**Ejercicio 1.**  </span>\n",
    "\n",
    "Los resultados siguientes provienen de muestras aleatorias simples independientes tomadas de dos poblaciones.<a href=\"https://colab.research.google.com/github/CrisBelDev/Notebook_Est2/blob/main/ejercicios/ejer_10_1.ipynb\" target=\"_blank\"><img src=\"https://colab.research.google.com/assets/colab-badge.svg\" alt=\"Open In Colab\"/></a>"
   ]
  },
  {
   "cell_type": "markdown",
   "metadata": {},
   "source": [
    "<style>\n",
    "    #con-borde{\n",
    "        border-left:3px solid #009929;\n",
    "        text-align: center;\n",
    "    }    \n",
    "</style>\n",
    "<div style=\"display: flex; justify-content: center; align-items: center; color:#333;\">\n",
    "    <table style=\"border-top:3px solid #009929;border-bottom:3px solid #009929;background-color:#D4F8B7;font-size:14px;color:333;\">\n",
    "        <thead>\n",
    "            <tr >\n",
    "                <th style=\"text-align: center; \">Muestra 1</th>\n",
    "                <th style=\"text-align: center;\">Muestra 2</th>\n",
    "            </tr>\n",
    "        </thead>\n",
    "        <tbody>\n",
    "            <tr>\n",
    "                <td style=\"text-align: center;\">$n_1 = 50 $</td>\n",
    "                <td style=\"text-align: center;\" id=\"con-borde\">$n_2 = 35 $</td>\n",
    "            </tr>\n",
    "            <tr>\n",
    "                <td style=\"text-align: center;\">$\\bar{x}_1 = 13,6 $</td>\n",
    "                <td style=\"text-align: center;\" id=\"con-borde\">$\\bar{x}_2 = 11,6 $</td>\n",
    "            </tr>\n",
    "            <tr>\n",
    "                <td style=\"text-align: center;\">$s_1 = 2,2 $</td>\n",
    "                <td style=\"text-align: center;\" id=\"con-borde\">$s_2 = 3,0 $</td>\n",
    "            </tr>\n",
    "        </tbody>\n",
    "    </table>\n",
    "</div>\n",
    "\n"
   ]
  },
  {
   "cell_type": "markdown",
   "metadata": {},
   "source": [
    "a) ¿Cuál es la estimación puntual de la diferencia entre las dos medias poblacionales?"
   ]
  },
  {
   "cell_type": "code",
   "execution_count": 8,
   "metadata": {},
   "outputs": [
    {
     "name": "stdout",
     "output_type": "stream",
     "text": [
      "Estimación puntual (a): 2.0\n"
     ]
    }
   ],
   "source": [
    "# Datos de las muestras\n",
    "n1, x_bar1, s1 = 50, 13.6, 2.2\n",
    "n2, x_bar2, s2 = 35, 11.6, 3.0\n",
    "\n",
    "# Estimación puntual de la diferencia de medias\n",
    "point_estimate = x_bar1 - x_bar2\n",
    "print(f\"Estimación puntual (a): {point_estimate}\")\n"
   ]
  },
  {
   "cell_type": "markdown",
   "metadata": {},
   "source": [
    "b) Proporcione un intervalo de 90% de confianza para la diferencia entre las dos medias poblacionales."
   ]
  },
  {
   "cell_type": "code",
   "execution_count": 9,
   "metadata": {},
   "outputs": [
    {
     "name": "stdout",
     "output_type": "stream",
     "text": [
      "Z:  1.6448536269514722\n",
      "Margen error Z:  0.978574361132911\n",
      "Intervalo confianza:  (1.021425638867089, 2.978574361132911)\n"
     ]
    }
   ],
   "source": [
    "from scipy import stats\n",
    "import numpy as np\n",
    "\n",
    "# Datos proporcionados\n",
    "n1 = 50  # Tamaño de la muestra 1\n",
    "x1 = 13.6  # Media muestral 1\n",
    "s1 = 2.2  # Desviación estándar muestral 1\n",
    "\n",
    "n2 = 35  # Tamaño de la muestra 2\n",
    "x2 = 11.6  # Media muestral 2\n",
    "s2 = 3.0  # Desviación estándar muestral 2\n",
    "\n",
    "z = 0.90 # z al 90%\n",
    "\n",
    "def calcular_intervalo_confianza(n1, x1, s1, n2, x2, s2, confianza):\n",
    "    # Estimación puntual de la diferencia entre las medias poblacionales\n",
    "    estimacion_puntual = x1 - x2\n",
    "    \n",
    "    # Valor z para el intervalo de confianza dado\n",
    "    z_value = stats.norm.ppf(1 - (1 - confianza) / 2)\n",
    "    \n",
    "    # Cálculo del margen de error con el valor z\n",
    "    error_margin = z_value * np.sqrt((s1**2 / n1) + (s2**2 / n2))\n",
    "    \n",
    "    # Intervalo de confianza con el valor z\n",
    "    intervalo_confianza = (estimacion_puntual - error_margin, estimacion_puntual + error_margin)\n",
    "    print(\"Z: \",z_value)\n",
    "    print(\"Margen error Z: \",error_margin)\n",
    "    print(\"Intervalo confianza: \",intervalo_confianza)\n",
    "\n",
    "calcular_intervalo_confianza(n1,x1,s1,n2,x2,s2,z)\n",
    "\n"
   ]
  },
  {
   "cell_type": "markdown",
   "metadata": {},
   "source": [
    "c) Proporcione un intervalo de 95% de confianza para la diferencia entre las dos medias poblacionales."
   ]
  },
  {
   "cell_type": "code",
   "execution_count": 10,
   "metadata": {},
   "outputs": [
    {
     "name": "stdout",
     "output_type": "stream",
     "text": [
      "Z:  1.959963984540054\n",
      "Margen error Z:  1.1660432713210558\n",
      "Intervalo confianza:  (0.8339567286789442, 3.1660432713210556)\n"
     ]
    }
   ],
   "source": [
    "# Datos proporcionados\n",
    "n1 = 50  # Tamaño de la muestra 1\n",
    "x1 = 13.6  # Media muestral 1\n",
    "s1 = 2.2  # Desviación estándar muestral 1\n",
    "\n",
    "n2 = 35  # Tamaño de la muestra 2\n",
    "x2 = 11.6  # Media muestral 2\n",
    "s2 = 3.0  # Desviación estándar muestral 2\n",
    "\n",
    "z = 0.95 # z al 95%\n",
    "calcular_intervalo_confianza(n1,x1,s1,n2,x2,s2,z)"
   ]
  },
  {
   "cell_type": "markdown",
   "metadata": {},
   "source": [
    "___\n",
    "<span style=\"color: #009929;\">**Ejercicio 2.**  </span>\n",
    "\n",
    "Considere la prueba de hipótesis que se da a continuación.\n",
    "\n",
    "<a href=\"https://colab.research.google.com/github/CrisBelDev/Notebook_Est2/blob/main/ejercicios/ejer_10_2.ipynb\" target=\"_blank\"><img src=\"https://colab.research.google.com/assets/colab-badge.svg\" alt=\"Open In Colab\"/></a>"
   ]
  },
  {
   "cell_type": "markdown",
   "metadata": {},
   "source": [
    "$$\\textbf{H}_0: \\mu_1 - \\mu_2 \\leq 0$$\n",
    "\n",
    "$$\\textbf{H}_a: \\mu_1 - \\mu_2 > 0$$\n",
    "\n",
    "Los resultados siguientes se obtuvieron de dos muestras independientes tomadas de dos poblaciones."
   ]
  },
  {
   "cell_type": "markdown",
   "metadata": {},
   "source": [
    "<div style=\"display: flex; justify-content: center; align-items: center; color:#333;\">\n",
    "    <table style=\"border-top:3px solid #009929;border-bottom:3px solid #009929;background-color:#D4F8B7;font-size:14px;color:333;\">\n",
    "        <thead>\n",
    "            <tr >\n",
    "                <th style=\"text-align: center; \">Muestra 1</th>\n",
    "                <th style=\"text-align: center;\">Muestra 2</th>\n",
    "            </tr>\n",
    "        </thead>\n",
    "        <tbody>\n",
    "            <tr>\n",
    "                <td style=\"text-align: center;\">$n_1 = 40 $</td>\n",
    "                <td style=\"text-align: center;\" id=\"con-borde\">$n_2 = 50 $</td>\n",
    "            </tr>\n",
    "            <tr>\n",
    "                <td style=\"text-align: center;\">$\\bar{x}_1 = 25,2 $</td>\n",
    "                <td style=\"text-align: center;\" id=\"con-borde\">$\\bar{x}_2 = 22,8 $</td>\n",
    "            </tr>\n",
    "            <tr>\n",
    "                <td style=\"text-align: center;\">$s_1 = 5,2 $</td>\n",
    "                <td style=\"text-align: center;\" id=\"con-borde\">$s_2 = 6,0 $</td>\n",
    "            </tr>\n",
    "        </tbody>\n",
    "    </table>\n",
    "</div>\n",
    "\n"
   ]
  },
  {
   "cell_type": "markdown",
   "metadata": {},
   "source": [
    "Pregunta 1: ¿Cuál es el valor del estadístico de prueba?\n"
   ]
  },
  {
   "cell_type": "code",
   "execution_count": 11,
   "metadata": {},
   "outputs": [
    {
     "data": {
      "text/plain": [
       "2.0312741071965967"
      ]
     },
     "execution_count": 11,
     "metadata": {},
     "output_type": "execute_result"
    }
   ],
   "source": [
    "import numpy as np\n",
    "\n",
    "# Datos de las muestras\n",
    "x_bar1 = 25.2  # Media de la muestra 1\n",
    "x_bar2 = 22.8  # Media de la muestra 2\n",
    "sigma1 = 5.2  # Desviación estándar poblacional 1\n",
    "sigma2 = 6.0  # Desviación estándar poblacional 2\n",
    "n1 = 40  # Tamaño de la muestra 1\n",
    "n2 = 50  # Tamaño de la muestra 2\n",
    "D0 = 0  # Diferencia en las medias bajo la hipótesis nula\n",
    "\n",
    "# Cálculo del estadístico z\n",
    "z_score = (x_bar1 - x_bar2 - D0) / np.sqrt(sigma1**2 / n1 + sigma2**2 / n2)\n",
    "z_score\n"
   ]
  },
  {
   "cell_type": "markdown",
   "metadata": {},
   "source": [
    "Pregunta 2: ¿Cuál es el valor-p?"
   ]
  },
  {
   "cell_type": "code",
   "execution_count": 12,
   "metadata": {},
   "outputs": [
    {
     "data": {
      "text/plain": [
       "0.022622177547503456"
      ]
     },
     "execution_count": 12,
     "metadata": {},
     "output_type": "execute_result"
    }
   ],
   "source": [
    "from scipy import stats\n",
    "\n",
    "# Grados de libertad\n",
    "df = n1 + n2 - 2\n",
    "\n",
    "# Cálculo del valor-p usando la distribución t con los grados de libertad calculados\n",
    "p_value = stats.t.sf(z_score, df)\n",
    "p_value\n"
   ]
  },
  {
   "cell_type": "markdown",
   "metadata": {},
   "source": [
    "Pregunta 3: Si  α=0.05, ¿cuál es la conclusión de la prueba de hipótesis?"
   ]
  },
  {
   "cell_type": "code",
   "execution_count": 13,
   "metadata": {},
   "outputs": [
    {
     "data": {
      "text/plain": [
       "'Rechazamos la hipótesis nula'"
      ]
     },
     "execution_count": 13,
     "metadata": {},
     "output_type": "execute_result"
    }
   ],
   "source": [
    "# Nivel de significancia\n",
    "alpha = 0.05\n",
    "\n",
    "# Conclusión de la prueba de hipótesis\n",
    "conclusion = \"Rechazamos la hipótesis nula\" if p_value < alpha else \"No rechazamos la hipótesis nula\"\n",
    "conclusion\n"
   ]
  },
  {
   "cell_type": "markdown",
   "metadata": {},
   "source": [
    "___\n",
    "<span style=\"color: #009929;\">**Ejercicio 3.**  </span>\n",
    "\n",
    "Considere la prueba de hipótesis que se da a continuación.\n",
    "\n",
    "<a href=\"https://colab.research.google.com/github/CrisBelDev/Notebook_Est2/blob/main/ejercicios/ejer_10_3.ipynb\" target=\"_blank\"><img src=\"https://colab.research.google.com/assets/colab-badge.svg\" alt=\"Open In Colab\"/></a>"
   ]
  },
  {
   "cell_type": "markdown",
   "metadata": {},
   "source": [
    "$$\\textbf{H}_0: \\mu_1 - \\mu_2 \\leq 0$$\n",
    "\n",
    "$$\\textbf{H}_a: \\mu_1 - \\mu_2 > 0$$\n",
    "\n",
    "Los resultados siguientes se obtuvieron de dos muestras independientes tomadas de dos poblaciones."
   ]
  },
  {
   "cell_type": "markdown",
   "metadata": {},
   "source": [
    "<div style=\"display: flex; justify-content: center; align-items: center; color:#333;\">\n",
    "    <table style=\"border-top:3px solid #009929;border-bottom:3px solid #009929;background-color:#D4F8B7;font-size:14px;color:333;\">\n",
    "        <thead>\n",
    "            <tr >\n",
    "                <th style=\"text-align: center; \">Muestra 1</th>\n",
    "                <th style=\"text-align: center;\">Muestra 2</th>\n",
    "            </tr>\n",
    "        </thead>\n",
    "        <tbody>\n",
    "            <tr>\n",
    "                <td style=\"text-align: center;\">$n_1 = 80 $</td>\n",
    "                <td style=\"text-align: center;\" id=\"con-borde\">$n_2 = 70 $</td>\n",
    "            </tr>\n",
    "            <tr>\n",
    "                <td style=\"text-align: center;\">$\\bar{x}_1 = 104 $</td>\n",
    "                <td style=\"text-align: center;\" id=\"con-borde\">$\\bar{x}_2 = 106 $</td>\n",
    "            </tr>\n",
    "            <tr>\n",
    "                <td style=\"text-align: center;\">$s_1 = 8,4 $</td>\n",
    "                <td style=\"text-align: center;\" id=\"con-borde\">$s_2 = 7,6 $</td>\n",
    "            </tr>\n",
    "        </tbody>\n",
    "    </table>\n",
    "</div>\n",
    "\n"
   ]
  },
  {
   "cell_type": "markdown",
   "metadata": {},
   "source": [
    "Pregunta 1: ¿Cuál es el valor del estadístico de prueba?\n"
   ]
  },
  {
   "cell_type": "code",
   "execution_count": 14,
   "metadata": {},
   "outputs": [
    {
     "data": {
      "text/plain": [
       "-1.5307175553672936"
      ]
     },
     "execution_count": 14,
     "metadata": {},
     "output_type": "execute_result"
    }
   ],
   "source": [
    "import numpy as np\n",
    "\n",
    "# Datos de las muestras\n",
    "x_bar1 = 104  # Media de la muestra 1\n",
    "x_bar2 = 106  # Media de la muestra 2\n",
    "sigma1 = 8.4  # Desviación estándar poblacional 1\n",
    "sigma2 = 7.6  # Desviación estándar poblacional 2\n",
    "n1 = 80  # Tamaño de la muestra 1\n",
    "n2 = 70  # Tamaño de la muestra 2\n",
    "D0 = 0  # Diferencia en las medias bajo la hipótesis nula\n",
    "\n",
    "# Cálculo del estadístico z\n",
    "z_score = (x_bar1 - x_bar2 - D0) / np.sqrt(sigma1**2 / n1 + sigma2**2 / n2)\n",
    "z_score\n"
   ]
  },
  {
   "cell_type": "markdown",
   "metadata": {},
   "source": [
    "Pregunta 2: ¿Cuál es el valor-p?"
   ]
  },
  {
   "cell_type": "code",
   "execution_count": 15,
   "metadata": {},
   "outputs": [
    {
     "data": {
      "text/plain": [
       "0.9360130639817974"
      ]
     },
     "execution_count": 15,
     "metadata": {},
     "output_type": "execute_result"
    }
   ],
   "source": [
    "from scipy import stats\n",
    "\n",
    "# Grados de libertad\n",
    "df = n1 + n2 - 2\n",
    "\n",
    "# Cálculo del valor-p usando la distribución t con los grados de libertad calculados\n",
    "p_value = stats.t.sf(z_score, df)\n",
    "p_value\n"
   ]
  },
  {
   "cell_type": "markdown",
   "metadata": {},
   "source": [
    "Pregunta 3: Si  α=0.05, ¿cuál es la conclusión de la prueba de hipótesis?\n"
   ]
  },
  {
   "cell_type": "code",
   "execution_count": 16,
   "metadata": {},
   "outputs": [
    {
     "data": {
      "text/plain": [
       "'No rechazamos la hipótesis nula'"
      ]
     },
     "execution_count": 16,
     "metadata": {},
     "output_type": "execute_result"
    }
   ],
   "source": [
    "# Nivel de significancia\n",
    "alpha = 0.05\n",
    "\n",
    "# Conclusión de la prueba de hipótesis\n",
    "conclusion = \"Rechazamos la hipótesis nula\" if p_value < alpha else \"No rechazamos la hipótesis nula\"\n",
    "conclusion\n"
   ]
  },
  {
   "cell_type": "markdown",
   "metadata": {},
   "source": [
    "___\n",
    "<span style=\"color: #009929;\">**Ejercicio 4.**  </span>\n",
    "\n",
    "**Condé Nast Traveler** realiza una encuesta anual en la que los lectores califican su crucero favorito. Los navíos se califican en una escala de 100 puntos, donde los valores más altos indican un mejor servicio. Una muestra de 37 cruceros que transportan menos de 500 pasajeros resultó con una calificación promedio de 85.36 y una muestra de 44 navíos que transportan 500 o más pasajeros recibió una calificación promedio de 81.40 (**Condé Nast Traveler**, febrero de 2008). Suponga que la desviación estándar poblacional es 4.55 para los cruceros que transportan a menos de 500 pasajeros y 3.97 para los que transportan a 500 o más pasajeros.\n",
    "\n",
    "<a href=\"https://colab.research.google.com/github/CrisBelDev/Notebook_Est2/blob/main/ejercicios/ejer_10_4.ipynb\" target=\"_blank\"><img src=\"https://colab.research.google.com/assets/colab-badge.svg\" alt=\"Open In Colab\"/></a>"
   ]
  },
  {
   "cell_type": "markdown",
   "metadata": {},
   "source": [
    "a) ¿Cuál es la estimación puntual de la diferencia entre la calificación media poblacional de los navíos que transportan menos de 500 pasajeros y la calificación media poblacional de los que transportan 500 o más personas?"
   ]
  },
  {
   "cell_type": "code",
   "execution_count": 17,
   "metadata": {},
   "outputs": [
    {
     "data": {
      "text/plain": [
       "3.9599999999999937"
      ]
     },
     "execution_count": 17,
     "metadata": {},
     "output_type": "execute_result"
    }
   ],
   "source": [
    "# Calificaciones medias de las muestras\n",
    "x_bar1 = 85.36  # Media de la muestra de cruceros con menos de 500 pasajeros\n",
    "x_bar2 = 81.40  # Media de la muestra de cruceros con 500 o más pasajeros\n",
    "\n",
    "# Diferencia de medias\n",
    "diferencia_medias = x_bar1 - x_bar2\n",
    "diferencia_medias\n"
   ]
  },
  {
   "cell_type": "markdown",
   "metadata": {},
   "source": [
    "b) ¿Cuál es el margen de error con 95% de confianza?"
   ]
  },
  {
   "cell_type": "code",
   "execution_count": 20,
   "metadata": {},
   "outputs": [
    {
     "data": {
      "text/plain": [
       "1.8776100003862883"
      ]
     },
     "execution_count": 20,
     "metadata": {},
     "output_type": "execute_result"
    }
   ],
   "source": [
    "from scipy.stats import norm\n",
    "import numpy as np\n",
    "# Desviaciones estándar poblacionales\n",
    "sigma1 = 4.55  # Cruceros con menos de 500 pasajeros\n",
    "sigma2 = 3.97  # Cruceros con 500 o más pasajeros\n",
    "\n",
    "# Tamaños de muestra\n",
    "n1 = 37  # Cruceros con menos de 500 pasajeros\n",
    "n2 = 44  # Cruceros con 500 o más pasajeros\n",
    "\n",
    "# Z-score para 95% de confianza\n",
    "z_score = norm.ppf(0.975)  # Dos colas\n",
    "\n",
    "# Margen de error\n",
    "margen_error = z_score * np.sqrt(sigma1**2 / n1 + sigma2**2 / n2)\n",
    "margen_error\n"
   ]
  },
  {
   "cell_type": "markdown",
   "metadata": {},
   "source": [
    "c) ¿Cuál es la estimación por intervalo de 95% de confianza para la diferencia entre las calificaciones medias poblacionales de ambos tamaños de cruceros?"
   ]
  },
  {
   "cell_type": "code",
   "execution_count": 19,
   "metadata": {},
   "outputs": [
    {
     "data": {
      "text/plain": [
       "(2.0823899996137056, 5.837610000386282)"
      ]
     },
     "execution_count": 19,
     "metadata": {},
     "output_type": "execute_result"
    }
   ],
   "source": [
    "# Intervalo de confianza\n",
    "intervalo_confianza = (diferencia_medias - margen_error, diferencia_medias + margen_error)\n",
    "intervalo_confianza\n"
   ]
  }
 ],
 "metadata": {
  "kernelspec": {
   "display_name": "Python 3 (ipykernel)",
   "language": "python",
   "name": "python3"
  },
  "language_info": {
   "codemirror_mode": {
    "name": "ipython",
    "version": 3
   },
   "file_extension": ".py",
   "mimetype": "text/x-python",
   "name": "python",
   "nbconvert_exporter": "python",
   "pygments_lexer": "ipython3",
   "version": "3.10.11"
  }
 },
 "nbformat": 4,
 "nbformat_minor": 5
}
