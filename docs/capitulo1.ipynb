{
 "cells": [
  {
   "cell_type": "markdown",
   "id": "73b82d81",
   "metadata": {},
   "source": [
    "<head>\n",
    "    <link rel=\"preconnect\" href=\"https://fonts.googleapis.com\">\n",
    "    <link rel=\"preconnect\" href=\"https://fonts.gstatic.com\" crossorigin>\n",
    "    <link href=\"https://fonts.googleapis.com/css2?family=Poppins:ital,wght@0,100;0,300;1,100&display=swap\" rel=\"stylesheet\">\n",
    "</head>\n",
    "\n",
    "<style>\n",
    "    div{\n",
    "        font-family: 'Poppins', sans-serif;\n",
    "    }\n",
    "    /*ESTILOS PORTADA DE CAPITULO*/\n",
    "    #capitulo {\n",
    "    text-align: center;\n",
    "    line-height: 100px;\n",
    "    height: 100px;\n",
    "    background-color: #009929;\n",
    "    color: white;\n",
    "    font-size: 50px;\n",
    "    padding: 5px;\n",
    "    text-shadow: 2px 2px 2px rgba(0, 0, 0, 0.5); /* Sombra del texto */\n",
    "    }\n",
    "\n",
    "    #numero {\n",
    "        font-size: 90px;\n",
    "    }\n",
    "\n",
    "    #titulo {\n",
    "        height: 100px;\n",
    "        color: black;\n",
    "        text-align:justify;\n",
    "        font-size: 40px;\n",
    "        margin-right:35px;\n",
    "        margin-left:20px;\n",
    "        margin-top: 20px;\n",
    "        margin-bottom:20px;\n",
    "        font-weight: bold;\n",
    "        text-transform: uppercase;\n",
    "        margin-bottom: 30px;\n",
    "    }\n",
    "\n",
    "    #contenido {\n",
    "        width: 100%;\n",
    "        background-color: #009929;\n",
    "        text-align: left;\n",
    "        color: #fff;\n",
    "        float: left; \n",
    "        padding: 5px; \n",
    "        padding-left:10px;\n",
    "        margin-top:80px;\n",
    "        margin-bottom: 10px;\n",
    "        font-size: 25px;\n",
    "    }\n",
    "    #separador {\n",
    "        width: 100%;\n",
    "        height: 2px; \n",
    "        background-color: #009929; \n",
    "        border: none;\n",
    "    } #indice {\n",
    "            column-count: 2; /* Divide el contenido en dos columnas */\n",
    "            column-gap: 20px; /* Espaciado entre columnas */\n",
    "            margin-top: 20px; /* Espaciado superior del índice */\n",
    "        }\n",
    "    #indice-container {\n",
    "        display: inline-block; \n",
    "    }\n",
    "    #indice ul {\n",
    "        list-style: none; \n",
    "        padding: 0; \n",
    "    }\n",
    "    #indice li {\n",
    "        break-inside: avoid; /* Evita que los elementos de la lista se separen entre columnas */\n",
    "    }\n",
    "    /* FIN ESTILOS PORTADA DE CAPITULO*/\n",
    "    /*ESTILOS TITULOS DEL CAPITULO*/\n",
    "    .indice_titulo{\n",
    "        display:flex;\n",
    "        color: #009929;\n",
    "    }\n",
    "    .indice_titulo span{\n",
    "        display: inline-block;\n",
    "        margin-top: 5px;\n",
    "        font-weight: normal;\n",
    "    }\n",
    "    span.section-number {\n",
    "        background-color: #009929;\n",
    "        border-radius: 50%;\n",
    "        color: white;\n",
    "        font-weight: bold;\n",
    "        padding: 0.5em;\n",
    "        display: inline-flex;\n",
    "        justify-content: center;\n",
    "        align-items: center;\n",
    "        width: 1.5em;\n",
    "        height: 1.5em;\n",
    "        font-size: 1em;\n",
    "        margin-right: 0.5em;\n",
    "    }\n",
    "    /* FIN ESTILOS TITULOS DEL CAPITULO*/\n",
    "    .bold-verde{\n",
    "        color: #009929;\n",
    "        font-weight: bold;\n",
    "    }\n",
    "\n",
    "</style>\n",
    "<div id=\"capitulo\">CAPITULO <span id=\"numero\">1</span></div>\n",
    "<div id=\"titulo\"> Datos y estadística</div>\n",
    "<div id=\"contenido\">ESTADÍSTICA EN LA PRÁCTICA: BUSINESSWEEK</div>\n",
    "<hr id=\"separador\">\n",
    "<div id=\"indice\">\n",
    "    <div id=\"indice-container\">\n",
    "        <p><span style=\"color: #009929;\">1.1</span>  <strong>APLICACIONES EN NEGOCIOS Y ECONOMIA</strong></p>\n",
    "        <ul>\n",
    "            <li>Contabilidad</li>\n",
    "            <li>Finanzas</li>\n",
    "            <li>Marketing</li>\n",
    "            <li>Producción</li>\n",
    "            <li>Economía</li> \n",
    "        </ul>\n",
    "    </div>\n",
    "    <div id=\"indice-container\">\n",
    "        <p><span style=\"color: #009929;\">1.2</span>  <strong>DATOS</strong></p>\n",
    "        <ul>\n",
    "            <li>Elementos, variables y observaciones</li>\n",
    "            <li>Escalas de medición</li>\n",
    "            <li>Datos categóricos y cuantitativos</li>\n",
    "            <li>Datos de corte transversal y de series de tiempo</li>\n",
    "        </ul>\n",
    "    </div>\n",
    "    <div id=\"indice-container\">\n",
    "        <p><span style=\"color: #009929;\">1.3</span>  <strong>FUENTE DE DATOS</strong></p>\n",
    "        <ul>\n",
    "            <li>Fuentes existentes</li>\n",
    "            <li>Estudios estadísticos</li>\n",
    "            <li>Errores en la adquisición de datos </li>\n",
    "        </ul>\n",
    "    </div>\n",
    "    <div id=\"indice-container\">\n",
    "        <p><span style=\"color: #009929;\">1.4</span>  <strong>ESTADÍSTICA DESCRIPTIVA</strong></p>        \n",
    "    </div>\n",
    "    <div id=\"indice-container\">\n",
    "        <p><span style=\"color: #009929;\">1.5</span>  <strong>INFERENCIA ESTADISTICA</strong></p>        \n",
    "    </div>\n",
    "    <div id=\"indice-container\">\n",
    "        <p><span style=\"color: #009929;\">1.6</span>  <strong>COMPUTADORAS Y ANÁLISIS ESTADÍSTICO</strong></p>        \n",
    "    </div>\n",
    "    <div id=\"indice-container\">\n",
    "        <p><span style=\"color: #009929;\">1.7</span>  <strong>MINERÍA DE DATOS</strong></p>        \n",
    "    </div>\n",
    "    <div id=\"indice-container\">\n",
    "        <p><span style=\"color: #009929;\">1.8</span>  <strong>LINEAMIENTOS ÉTICOS PARA LA PRÁCTICA ESTADÍSTICA</strong></p>        \n",
    "    </div>\n",
    "</div>"
   ]
  },
  {
   "cell_type": "markdown",
   "id": "7bccc753-2f0e-4292-83a9-47906633ac1b",
   "metadata": {},
   "source": [
    "## <div class = \"indice_titulo\"><span class=\"section-number\">1.1</span> **Aplicaciones en negocios y economía**</div>"
   ]
  },
  {
   "cell_type": "markdown",
   "id": "63c164c0-f31a-4dff-ab6d-b033dbe77871",
   "metadata": {},
   "source": [
    "En el entorno actual de negocios y economía, todos tienen acceso a grandes cantidades de información estadística. Los directivos y tomadores de decisiones exitosos entienden esta información y saben utilizarla de manera eficiente. En esta sección se proporcionan ejemplos que ilustran algunos usos de la estadística en los negocios y en la economía.\n"
   ]
  },
  {
   "cell_type": "code",
   "execution_count": 10,
   "id": "6ac6396c",
   "metadata": {},
   "outputs": [
    {
     "data": {
      "text/html": [
       "\n",
       "        <iframe\n",
       "            width=\"950\"\n",
       "            height=\"515\"\n",
       "            src=\"https://www.youtube.com/embed/https://www.youtube.com/watch?v=15VqjabLWJE&list=PL3lPU7IsdhynPFg9q77hI4OBWrFrWnWrz\"\n",
       "            frameborder=\"0\"\n",
       "            allowfullscreen\n",
       "            \n",
       "        ></iframe>\n",
       "        "
      ],
      "text/plain": [
       "<IPython.lib.display.YouTubeVideo at 0x18b6423a510>"
      ]
     },
     "execution_count": 10,
     "metadata": {},
     "output_type": "execute_result"
    }
   ],
   "source": [
    "from IPython.display import YouTubeVideo\n",
    "\n",
    "YouTubeVideo('https://www.youtube.com/watch?v=15VqjabLWJE&list=PL3lPU7IsdhynPFg9q77hI4OBWrFrWnWrz', width=900, height=515)"
   ]
  },
  {
   "cell_type": "markdown",
   "id": "84a67927-12bb-4e0c-9578-2e424ae9a670",
   "metadata": {},
   "source": [
    "### <div class = \"indice_titulo\">**Contabilidad**</div>\n",
    "\n",
    "Las empresas de contadores públicos utilizan procedimientos de muestreo estadístico al realizar auditorías para sus clientes. Por ejemplo, supongamos que una empresa de contadores desea determinar si las cantidades en cuentas por cobrar que aparecen en la hoja de balance del cliente representan la verdadera cantidad en cuentas por cobrar. Revisar el gran número de cuentas por cobrar tomaría demasiado tiempo y sería muy costoso. En estos casos, el personal encargado de la auditoría selecciona un subconjunto de las cuentas, conocido como muestra. Después de revisar la exactitud de las cuentas seleccionadas en la muestra, los auditores concluyen si la cantidad en cuentas por cobrar que aparece en la hoja de balance del cliente es aceptable.\n",
    "\n",
    "### <div class = \"indice_titulo\">**Finanzas**</div>\n",
    "Los analistas financieros utilizan información estadística para sus recomendaciones de inversión en acciones. Revisan datos como la relación precio/ganancia y el rendimiento de los dividendos. Comparan estos datos con el promedio del mercado de acciones para determinar si una acción está sobre o subvaluada.\n",
    "\n",
    "### <div class = \"indice_titulo\">**Marketing**</div>\n",
    "Los escáneres electrónicos en las cajas de los comercios minoristas recopilan datos para la investigación de mercado. Estos datos se venden a proveedores como ACNielsen e Information Research Inc., quienes los procesan y venden resúmenes estadísticos a los fabricantes. Estos datos son útiles para analizar la relación entre las actividades promocionales y las ventas, lo que ayuda a establecer estrategias de marketing.\n",
    "\n",
    "### <div class = \"indice_titulo\">**Producción**</div>\n",
    "En la producción, la calidad es importante y se utiliza la estadística para controlarla. Se emplean gráficas de control estadístico de calidad, como la gráfica x-barra, para vigilar los resultados promedio de los procesos de producción. Si los puntos en la gráfica están dentro de los límites de control, el proceso puede continuar sin ajustes.\n",
    "\n",
    "### <div class = \"indice_titulo\">**Economía**</div>\n",
    "Los economistas utilizan información estadística para hacer pronósticos sobre la economía. Por ejemplo, emplean indicadores como el índice de precios al consumidor, la tasa de desempleo y la utilización de la capacidad de producción para pronosticar las tasas de inflación. Estos indicadores se utilizan en modelos computarizados de pronósticos.\n",
    "<p>En este libro se presentan ejemplos que ejemplifican la diversidad de las aplicaciones estadísticas. Además, se incluyen los artículos \"La estadística en la práctica\" al comienzo de cada capítulo, donde se muestra el material que será estudiado. Estas aplicaciones demuestran la importancia de la estadística en situaciones relacionadas con los negocios y la economía.</p>"
   ]
  },
  {
   "cell_type": "markdown",
   "id": "b18bb985",
   "metadata": {},
   "source": [
    "## <div class = \"indice_titulo\"><span class=\"section-number\">1.2</span> **Datos**</div>\n",
    "Los datos son hechos o información recopilada, analizada y resumida para su presentación e interpretación. Todos los datos recopilados para un estudio en particular son considerados un conjunto de datos. En la tabla 1.1 se muestra un conjunto de datos que proporciona información sobre 25 empresas del S&P 500. El S&P 500 está compuesto por 500 empresas seleccionadas por Standard & Poor's y representa el 76% de la capitalización de mercado de todas las acciones en Estados Unidos. La actividad de las empresas del S&P 500 es estrechamente monitoreada por los inversionistas y analistas de Wall Street."
   ]
  },
  {
   "cell_type": "code",
   "execution_count": 25,
   "id": "f010a9fd",
   "metadata": {},
   "outputs": [
    {
     "data": {
      "text/html": [
       "\n",
       "        <iframe\n",
       "            width=\"950\"\n",
       "            height=\"515\"\n",
       "            src=\"https://www.youtube.com/embed/https://www.youtube.com/watch?v=PcFhnJiZ9v8\"\n",
       "            frameborder=\"0\"\n",
       "            allowfullscreen\n",
       "            \n",
       "        ></iframe>\n",
       "        "
      ],
      "text/plain": [
       "<IPython.lib.display.YouTubeVideo at 0x18b658c4990>"
      ]
     },
     "execution_count": 25,
     "metadata": {},
     "output_type": "execute_result"
    }
   ],
   "source": [
    "YouTubeVideo('https://www.youtube.com/watch?v=PcFhnJiZ9v8', width=950, height=515)"
   ]
  },
  {
   "cell_type": "markdown",
   "id": "a3076b8f",
   "metadata": {},
   "source": [
    "### <div class = \"indice_titulo\">**Contabilidad**</div>\n",
    "Elementos son las entidades de las que se obtienen los datos. En el conjunto de datos de la tabla 1.1, cada acción de una empresa es un elemento. Hay 25 acciones en total.\n",
    "Una variable es una característica de los elementos que es de interés. En el conjunto de datos de la tabla 1.1 hay cinco variables: bolsa de valores, ticker, posición en BusinessWeek, precio por acción y ganancia por acción.\n",
    "El conjunto de datos contiene observaciones, que son las mediciones obtenidas para cada elemento. Hay 25 observaciones en total.\n",
    "\n",
    "### <div class = \"indice_titulo\">**Elementos, variables y observaciones**</div>\n",
    "La escala de medición determina la cantidad de información contenida en el dato y la manera más apropiada de analizar los datos. Hay cuatro escalas de medición: nominal, ordinal, de intervalo y de razón.\n",
    "Una escala nominal se utiliza cuando el dato de una variable es una etiqueta o un nombre que identifica un atributo. En la tabla 1.1, la variable bolsa de valores tiene una escala nominal.\n",
    "Una escala ordinal se utiliza cuando los datos tienen un orden o jerarquía. En la tabla 1.1, la posición en BusinessWeek es una variable con escala ordinal.\n",
    "Una escala de intervalo se utiliza cuando los datos tienen las características de los datos ordinales y el intervalo entre valores se expresa en términos de una unidad de medición fija. Un ejemplo de datos de intervalo son las calificaciones en una prueba de aptitudes escolares.\n",
    "Las puntuaciones obtenidas por tres alumnos en la prueba de matemáticas (620, 550 y 470) pueden ser ordenadas de mejor a peor. Las diferencias entre las calificaciones también tienen significado. Por ejemplo, el estudiante 1 obtuvo 70 puntos más que el estudiante 2, mientras que el estudiante 2 obtuvo 80 puntos más que el estudiante 3."
   ]
  },
  {
   "cell_type": "markdown",
   "id": "2143e5d1",
   "metadata": {},
   "source": [
    "<p><b style=\"color:green;\"> Tabla 1.1 </b> Rendimientos de varios fondos de inversión ofrecidos por Fortaleza SAFI en Bolivia</p>\n",
    "\n",
    "<style>\n",
    "    .customTable {\n",
    "      width: 100%;\n",
    "      border-collapse: collapse;\n",
    "      border-spacing: 0;\n",
    "      background-color: #D4F8B7; /* Fondo general de la tabla */\n",
    "    }\n",
    "    .customTable th, .customTable td {\n",
    "      background-color: #D4F8B7; /* Fondo de las celdas */\n",
    "      color: black;\n",
    "      font-weight: bold;\n",
    "      border-right: 2px solid #009929; /* Líneas divisorias verticales naranjas */\n",
    "      padding: 8px;\n",
    "      text-align: left;\n",
    "    }\n",
    "    .customTable th:last-child, .customTable td:last-child {\n",
    "      border-right: none;\n",
    "    }\n",
    "    .customTable thead tr:first-child th {\n",
    "      border-top: 5px solid #009929;\n",
    "      border-right: 2px solid #D4F8B7;\n",
    "      border-block-end: 2px solid #D4F8B7;\n",
    "    }\n",
    "    .customTable tr:last-child td {\n",
    "      border-bottom: 5px solid #009929;\n",
    "    }\n",
    "</style>\n",
    "\n",
    "<table class=\"customTable\">\n",
    "    <thead>\n",
    "        <tr>\n",
    "            <th><center>Nombre del Fondo</center></th>\n",
    "            <th><center>Tipo de Moneda</center></th>\n",
    "            <th><center>Valor de la Cuota</center></th>\n",
    "            <th><center>Rendimiento T30d (%)</center></th>\n",
    "            <th><center>Rendimiento T360d (%)</center></th>\n",
    "        </tr>\n",
    "    </thead>\n",
    "    <tbody>\n",
    "        <tr>\n",
    "            <td>Fondo Disponible</td>\n",
    "            <td>Bolivianos (Bs)</td>\n",
    "            <td>593.7393</td>\n",
    "            <td>2.50</td>\n",
    "            <td>2.53</td>\n",
    "        </tr>\n",
    "        <tr>\n",
    "            <td>Fondo Inversión Internacional</td>\n",
    "            <td>Dólares (USD)</td>\n",
    "            <td>1.0000</td>\n",
    "            <td>1.52</td>\n",
    "            <td>1.29</td>\n",
    "        </tr>\n",
    "        <tr>\n",
    "            <td>Fondo Interés +</td>\n",
    "            <td>Bolivianos (Bs)</td>\n",
    "            <td>1,744.8408</td>\n",
    "            <td>2.42</td>\n",
    "            <td>2.42</td>\n",
    "        </tr>\n",
    "        <tr>\n",
    "            <td>Fondo UFV Rendimiento Total</td>\n",
    "            <td>UFV</td>\n",
    "            <td>915.5883</td>\n",
    "            <td>2.47</td>\n",
    "            <td>2.61</td>\n",
    "        </tr>\n",
    "        <tr>\n",
    "            <td>Fondo Liquidez</td>\n",
    "            <td>Dólares (USD)</td>\n",
    "            <td>267.7532</td>\n",
    "            <td>0.72</td>\n",
    "            <td>1.06</td>\n",
    "        </tr>\n",
    "        <tr>\n",
    "            <td>Fondo Produce Ganancia</td>\n",
    "            <td>Dólares (USD)</td>\n",
    "            <td>182.9020</td>\n",
    "            <td>0.69</td>\n",
    "            <td>0.97</td>\n",
    "        </tr>\n",
    "        <tr>\n",
    "            <td>Fondo Planifica</td>\n",
    "            <td>Bolivianos (Bs)</td>\n",
    "            <td>419.2739</td>\n",
    "            <td>2.43</td>\n",
    "            <td>2.48</td>\n",
    "        </tr>\n",
    "        <tr>\n",
    "            <td>Fondo Potencia Bolivianos</td>\n",
    "            <td>Bolivianos (Bs)</td>\n",
    "            <td>6,495.4492</td>\n",
    "            <td>2.32</td>\n",
    "            <td>2.39</td>\n",
    "        </tr>\n",
    "        <tr>\n",
    "            <td>Fondo Renta Mixta Internacional</td>\n",
    "            <td>Dólares (USD)</td>\n",
    "            <td>131.7955</td>\n",
    "            <td>0.87</td>\n",
    "            <td>1.22</td>\n",
    "        </tr>\n",
    "        <tr>\n",
    "            <td>Fondo Porvenir</td>\n",
    "            <td>Dólares (USD)</td>\n",
    "            <td>203.8964</td>\n",
    "            <td>0.92</td>\n",
    "            <td>1.11</td>\n",
    "        </tr>\n",
    "        <!-- Agrega más filas según sea necesario -->\n",
    "    </tbody>\n",
    "</table>"
   ]
  },
  {
   "cell_type": "markdown",
   "id": "7d02ecc7",
   "metadata": {},
   "source": [
    "### <div class = \"indice_titulo\">**Escalas de medición**</div>\n",
    "Una variable tiene una escala de razón si cumple con todas las propiedades de los datos de intervalo y la proporción entre dos valores tiene significado. Ejemplos de variables que utilizan esta escala son distancia, altura, peso y tiempo. Para que una variable tenga una escala de razón, debe tener un valor de cero que indique la ausencia de la variable. Por ejemplo, en el caso del costo de un automóvil, si el valor es cero significa que el automóvil es gratuito. Además, si se compara el costo de un automóvil de `$30,000`con el costo de otro automóvil de `$15,000`, la propiedad de razón nos muestra que el primer automóvil cuesta el doble que el segundo.\n",
    "\n",
    "### <div class = \"indice_titulo\">**Datos categóricos y cuantitativos**</div>\n",
    "Los datos se clasifican en cualitativos y cuantitativos. Los datos cualitativos incluyen etiquetas o nombres que se usan para identificar un atributo de cada elemento. Pueden ser numéricos o no y se emplean la escala nominal o la ordinal. Los datos cuantitativos requieren valores numéricos que indiquen cuánto o cuántos. Se obtienen utilizando las escalas de medición de intervalo o de razón. \n",
    "\n",
    "En el caso de las variables cualitativas, el análisis estadístico es limitado. Se resumen contando el número de observaciones o calculando la proporción de observaciones en cada categoría cualitativa. No se pueden realizar operaciones aritméticas con estos datos. En cambio, en las variables cuantitativas sí se pueden realizar operaciones aritméticas como suma y promedio. \n",
    "\n",
    "### <div class = \"indice_titulo\">**Datos de corte transversal y de series de tiempo**</div>\n",
    "Existen dos tipos de datos según el tiempo en que se obtienen. Los datos de sección transversal se obtienen en el mismo momento o aproximadamente el mismo momento. Por otro lado, los datos de series de tiempo se obtienen a lo largo de varios periodos. \n",
    "\n",
    "Las gráficas de series de tiempo son comunes en las publicaciones sobre negocios y economía. Estas gráficas ayudan a los analistas a entender lo que ocurrió en el pasado, identificar tendencias en el tiempo y proyectar niveles futuros. Son fáciles de entender e interpretar con un poco de estudio.\n",
    "\n",
    "La gráfica (A) muestra las tasas de interés en Stafford Loans para estudiantes entre 2000 y 2006. Después de 2000, las tasas de interés disminuyen y alcanzan su nivel más bajo en 2004, pero a partir de ese año aumentan significativamente.\n",
    "\n",
    "En la gráfica (B) se observa un aumento preocupante en la deuda promedio por hogar en tarjetas de crédito durante un período de 10 años, de 1995 a 2005. La deuda promedio aumenta constantemente, lo que dificulta a los hogares pagar sus deudas.\n",
    "\n",
    "La gráfica (C) muestra las tasas de ocupación en los hoteles del sur de Florida durante un año. Las tasas más altas se encuentran en los meses de febrero y marzo, cuando el clima es atractivo para los turistas. Por otro lado, las tasas más bajas se observan de agosto a octubre, debido a las altas temperaturas y la temporada de huracanes.\n",
    "Gráfica (A): Tasas de interés en los Stafford Loans para estudiantes. Las tasas disminuyen después de 2000 y llegan al nivel más bajo en 2004, pero luego aumentan marcadamente en los años siguientes.\n",
    "\n",
    "Gráfica (B): Adeudo promedio en tarjetas de crédito por hogar. Se observa un aumento constante en la deuda promedio durante un período de 10 años, de 1995 a 2005.\n",
    "\n",
    "Gráfica (C): Tasas de ocupación en hoteles de Florida del sur. Se observan tasas de ocupación más altas en los meses de febrero y marzo, mientras que las tasas más bajas se encuentran de agosto a octubre.\n"
   ]
  },
  {
   "cell_type": "markdown",
   "id": "712d4fdf",
   "metadata": {},
   "source": [
    "<p><b style=\"color:green;\">Figura 1.1</b> Precio promedio por galón para la gasolina regular convencional en Estados Unidos</p>"
   ]
  },
  {
   "cell_type": "code",
   "execution_count": 28,
   "id": "da35454a",
   "metadata": {},
   "outputs": [
    {
     "data": {
      "image/png": "[encoded data removed]",
      "text/plain": [
       "<Figure size 1000x500 with 1 Axes>"
      ]
     },
     "metadata": {},
     "output_type": "display_data"
    }
   ],
   "source": [
    "import matplotlib.pyplot as plt\n",
    "import pandas as pd\n",
    "\n",
    "# Puntos de datos, asumiendo una frecuencia mensual desde Marzo 2006 hasta Julio 2009\n",
    "fechas = pd.date_range(start=\"2006-03-01\", periods=41, freq='M')\n",
    "precios = [\n",
    "    2.30, 2.25, 2.20, 2.20, 2.25, 2.35, 2.30, 2.35, 2.40, 2.45,\n",
    "    2.50, 2.60, 2.55, 2.50, 2.55, 2.60, 2.65, 2.70, 2.75, 2.80,\n",
    "    2.85, 3.00, 3.10, 3.25, 3.50, 3.60, 3.70, 3.80, 4.00, 4.10,\n",
    "    4.20, 4.35, 4.00, 3.75, 3.50, 3.25, 3.00, 2.75, 2.50, 2.30,\n",
    "    2.20\n",
    "]\n",
    "\n",
    "# Crear un DataFrame de los datos\n",
    "datos = pd.DataFrame({'Fecha': fechas, 'Precio': precios})\n",
    "\n",
    "# Configuración gráfica\n",
    "plt.figure(figsize=(10, 5))\n",
    "plt.plot(datos['Fecha'], datos['Precio'], marker='o', color='#009929')\n",
    "plt.grid(True, which='both', linestyle='--', linewidth=0.5)\n",
    "plt.title('Precio medio por galón')\n",
    "plt.xlabel('Fecha')\n",
    "plt.ylabel('Precio medio por galón')\n",
    "plt.ylim(0, 4.5) \n",
    "plt.xlim(datos['Fecha'].min(), datos['Fecha'].max())\n",
    "\n",
    "# Color de fondo\n",
    "ax = plt.gca()\n",
    "ax.set_facecolor('#D4F8B7')  # Color de fondo\n",
    "fig = plt.gcf()\n",
    "fig.patch.set_facecolor('#D4F8B7')  # Color de fondo (figura)\n",
    "\n",
    "# Mostrar la gráfica\n",
    "plt.show()\n"
   ]
  },
  {
   "cell_type": "markdown",
   "id": "0b4e0dfa",
   "metadata": {},
   "source": [
    "<p><b style=\"color:green;\"> Figura 1.2 </b> Varias Gráficas de series de tiempo </p>"
   ]
  },
  {
   "cell_type": "code",
   "execution_count": 29,
   "id": "cb5f1df3",
   "metadata": {},
   "outputs": [
    {
     "data": {
      "image/png": "[encoded data removed]",
      "text/plain": [
       "<Figure size 1000x500 with 1 Axes>"
      ]
     },
     "metadata": {},
     "output_type": "display_data"
    }
   ],
   "source": [
    "import matplotlib.pyplot as plt\n",
    "import pandas as pd\n",
    "\n",
    "# Ajustamos las fechas para que coincidan con el número de valores proporcionados del Dow Jones\n",
    "fechas = pd.date_range(start=\"1998-01-01\", periods=15, freq='A-DEC')\n",
    "\n",
    "# Valores aproximados del Promedio industrial Dow Jones extraídos del gráfico\n",
    "valores_dow_jones = [\n",
    "    8200,  9100, 10700, 9800,  8800,  9000, 10200, 10400, 11000,\n",
    "    12400, 13000, 12800, 11800, 9000,  8500\n",
    "]\n",
    "\n",
    "# Crear un DataFrame con los datos ajustados\n",
    "datos_dow_jones = pd.DataFrame({'Año': fechas, 'Promedio industrial Dow Jones': valores_dow_jones})\n",
    "\n",
    "# Configuración de la gráfica\n",
    "plt.figure(figsize=(10, 5))\n",
    "plt.plot(datos_dow_jones['Año'], datos_dow_jones['Promedio industrial Dow Jones'], color='#009929')\n",
    "plt.grid(True, which='both', linestyle='--', linewidth=0.5)\n",
    "plt.title('(A) Promedio industrial Dow Jones')\n",
    "plt.xlabel('Año', fontweight='bold')\n",
    "plt.ylabel('Promedio industrial Dow Jones')\n",
    "plt.ylim(5000, 14000)  # Establecer los límites del eje y\n",
    "plt.xlim(datos_dow_jones['Año'].min(), datos_dow_jones['Año'].max())  # Establecer los límites del eje x\n",
    "\n",
    "# Color de fondo\n",
    "ax = plt.gca()\n",
    "ax.set_facecolor('#D4F8B7')  # Color de fondo claro\n",
    "fig = plt.gcf()\n",
    "fig.patch.set_facecolor('#D4F8B7')  # Color de fondo para la figura\n",
    "\n",
    "# Mostrar la gráfica\n",
    "plt.show()\n"
   ]
  },
  {
   "cell_type": "code",
   "execution_count": 30,
   "id": "d63c508b",
   "metadata": {},
   "outputs": [
    {
     "data": {
      "image/png": "[encoded data removed]",
      "text/plain": [
       "<Figure size 800x600 with 1 Axes>"
      ]
     },
     "metadata": {},
     "output_type": "display_data"
    }
   ],
   "source": [
    "import matplotlib.pyplot as plt\n",
    "import pandas as pd\n",
    "\n",
    "# Años representados en el gráfico\n",
    "años = [2003, 2004, 2005, 2006, 2007, 2008, 2009]\n",
    "\n",
    "# Valores aproximados de la utilidad neta de McDonald's (en millones de $) extraídos del gráfico\n",
    "utilidades = [\n",
    "    1.5, 2.0, 2.5, 2.0, 3.5, 4.0, 5.5\n",
    "]\n",
    "\n",
    "# Crear un DataFrame para los datos\n",
    "datos_utilidad_mcdonalds = pd.DataFrame({'Año': años, 'Utilidad neta (millones $)': utilidades})\n",
    "\n",
    "# Configuración del gráfico de barras con bordes negros\n",
    "plt.figure(figsize=(8, 6))\n",
    "plt.bar(datos_utilidad_mcdonalds['Año'], \n",
    "        datos_utilidad_mcdonalds['Utilidad neta (millones $)'], \n",
    "        color='#5CCB5F', \n",
    "        edgecolor='black')  # Agregar borde negro a las barras\n",
    "plt.title('(B) Utilidad neta de McDonald’s Inc.')\n",
    "plt.xlabel('Año', fontweight='bold')\n",
    "plt.ylabel('Utilidad neta (millones $)')\n",
    "plt.ylim(0, 6)  # Establecer los límites del eje y\n",
    "\n",
    "# Color de fondo\n",
    "ax = plt.gca()\n",
    "ax.set_facecolor('#D4F8B7')  # Color de fondo claro\n",
    "fig = plt.gcf()\n",
    "fig.patch.set_facecolor('#D4F8B7')  # Color de fondo para la figura\n",
    "\n",
    "# Mostrar el gráfico de barras\n",
    "plt.show()\n"
   ]
  },
  {
   "cell_type": "code",
   "execution_count": 31,
   "id": "a65138f2",
   "metadata": {},
   "outputs": [
    {
     "data": {
      "image/png": "[encoded data removed]",
      "text/plain": [
       "<Figure size 1000x600 with 1 Axes>"
      ]
     },
     "metadata": {},
     "output_type": "display_data"
    }
   ],
   "source": [
    "import matplotlib.pyplot as plt\n",
    "import pandas as pd\n",
    "\n",
    "# Meses representados en el gráfico\n",
    "meses = ['Ene', 'Feb', 'Mar', 'Abr', 'May', 'Jun', 'Jul', 'Ago', 'Sep', 'Oct', 'Nov', 'Dic']\n",
    "\n",
    "# Valores aproximados de la tasa de ocupación de los hoteles del sur de Florida (en porcentaje)\n",
    "tasas_ocupacion = [\n",
    "    70, 80, 82, 75, 68, 65, 60, 55, 58, 62, 68, 75\n",
    "]\n",
    "\n",
    "# Crear un DataFrame para los datos\n",
    "datos_ocupacion_hoteles = pd.DataFrame({'Mes': meses, 'Porcentaje de ocupación': tasas_ocupacion})\n",
    "\n",
    "# Configuración del gráfico de barras\n",
    "plt.figure(figsize=(10, 6))\n",
    "plt.bar(datos_ocupacion_hoteles['Mes'], datos_ocupacion_hoteles['Porcentaje de ocupación'], color='#5CCB5F', edgecolor='black')\n",
    "plt.title('(C) Tasa de ocupación de los hoteles del sur de Florida')\n",
    "plt.xlabel('Mes', fontweight='bold')\n",
    "plt.ylabel('Porcentaje de ocupación')\n",
    "plt.ylim(0, 100)  # Establecer los límites del eje y\n",
    "\n",
    "# Color de fondo\n",
    "ax = plt.gca()\n",
    "ax.set_facecolor('#D4F8B7')  # Color de fondo claro\n",
    "fig = plt.gcf()\n",
    "fig.patch.set_facecolor('#D4F8B7')  # Color de fondo para la figura\n",
    "\n",
    "# Mostrar el gráfico de barras\n",
    "plt.show()\n"
   ]
  },
  {
   "cell_type": "markdown",
   "id": "ce8daaac-32ad-4015-84e7-843b88819ad8",
   "metadata": {},
   "source": [
    "## <div class = \"indice_titulo\"><span class=\"section-number\">1.3</span> **Fuentes de datos**</div>"
   ]
  },
  {
   "cell_type": "markdown",
   "id": "d3c2e072-d66f-458c-a7a2-62f61515f619",
   "metadata": {},
   "source": [
    "Los datos se obtienen de fuentes existentes o a través de encuestas y estudios experimentales."
   ]
  },
  {
   "cell_type": "code",
   "execution_count": 27,
   "id": "89bc0c13",
   "metadata": {},
   "outputs": [
    {
     "data": {
      "text/html": [
       "\n",
       "        <iframe\n",
       "            width=\"950\"\n",
       "            height=\"515\"\n",
       "            src=\"https://www.youtube.com/embed/https://www.youtube.com/watch?v=dASIvgzxhGQ\"\n",
       "            frameborder=\"0\"\n",
       "            allowfullscreen\n",
       "            \n",
       "        ></iframe>\n",
       "        "
      ],
      "text/plain": [
       "<IPython.lib.display.YouTubeVideo at 0x18b658d0050>"
      ]
     },
     "execution_count": 27,
     "metadata": {},
     "output_type": "execute_result"
    }
   ],
   "source": [
    "YouTubeVideo('https://www.youtube.com/watch?v=dASIvgzxhGQ', width=950, height=515)"
   ]
  },
  {
   "cell_type": "markdown",
   "id": "b37bd64e",
   "metadata": {},
   "source": [
    "### <div class = \"indice_titulo\">**Datos de corte transversal y de series de tiempo**</div>\n",
    "Las empresas suelen contar con bases de datos internas que contienen información sobre empleados, clientes y operaciones comerciales.\n",
    "Los registros internos de personal proporcionan datos como salarios, edades y años de experiencia de los empleados.\n",
    "Otros registros internos contienen información sobre ventas, publicidad, distribución, inventario y producción.\n",
    "Las empresas también pueden obtener datos externos económicos y comerciales a través de organizaciones especializadas en la recolección y almacenamiento de datos.\n",
    "Empresas como Dun & Bradstreet, Bloomberg, Dow Jones & Company, ACNielsen e Information Resources, Inc. proporcionan servicios de bases de datos a clientes.\n",
    "Otras fuentes de datos incluyen asociaciones industriales y organizaciones especializadas, como la asociación Travel Industry Association of America, que proporciona información sobre viajes, y el Graduate Management Admission Council, que tiene datos sobre calificaciones en exámenes y programas educativos para administradores.\n",
    "Internet se ha convertido en una fuente importante de datos y está disponible tanto a través de las páginas web de empresas como a través de plataformas especializadas que ofrecen una amplia variedad de información.\n",
    "Los gobiernos también son una fuente significativa de datos, como el Departamento del Trabajo de Estados Unidos, que proporciona datos sobre empleo, salarios, fuerza laboral, entre otros. Muchas agencias gubernamentales también ofrecen datos en línea a través de sus sitios web."
   ]
  },
  {
   "cell_type": "markdown",
   "id": "5d41a2a9",
   "metadata": {},
   "source": [
    "<p><b style=\"color:green;\"> Tabla 1.2 </b> Ejemplos de datos disponibles de los registros internos de una empresa </p>"
   ]
  },
  {
   "cell_type": "markdown",
   "id": "6360f08c",
   "metadata": {},
   "source": [
    "<table class=\"customTable\">\n",
    "  <thead>\n",
    "  <tr>\n",
    "    <th><center>Fuente</center></th>\n",
    "    <th><center>Algunos datos comúnmente disponibles</center></th>\n",
    "  </tr>\n",
    "  </thead>\n",
    "  <tr>\n",
    "    <td>Registros de empleados</td>\n",
    "    <td>Nombre, domicilio, número de Seguro Social, sueldo, número de días de vacaciones, número de días de incapacidad y bonos</td>\n",
    "  </tr>\n",
    "  <tr>\n",
    "    <td>Registros de producción</td>\n",
    "    <td>Número de parte o de producto, cantidad producida, costo de mano de obra directa y costo de los materiales</td>\n",
    "  </tr>\n",
    "  <tr>\n",
    "    <td>Registros de inventarios</td>\n",
    "    <td>Número de parte o de producto, cantidad de unidades disponible, punto de reorden, lote económico y programa de descuentos</td>\n",
    "  </tr>\n",
    "  <tr>\n",
    "    <td>Registros de ventas</td>\n",
    "    <td>Número de producto, volumen de ventas, volumen de ventas por región y volumen de ventas por tipo de cliente</td>\n",
    "  </tr>\n",
    "  <tr>\n",
    "    <td>Registros de crédito</td>\n",
    "    <td>Nombre del cliente, domicilio, número telefónico, límite de crédito y saldo de las cuentas por cobrar</td>\n",
    "  </tr>\n",
    "  <tr>\n",
    "    <td>Perfiles de clientes</td>\n",
    "    <td>Edad, género, nivel de ingresos, número de miembros en la familia, domicilio y preferencias</td>\n",
    "  </tr>\n",
    "</table>"
   ]
  },
  {
   "cell_type": "markdown",
   "id": "6d98aac6",
   "metadata": {},
   "source": [
    "<p><b style=\"color:green;\"> Tabla 1.3 </b> Ejemplos de datos disponibles de algunas agencias gubernamentales </p>"
   ]
  },
  {
   "cell_type": "markdown",
   "id": "b656d693",
   "metadata": {},
   "source": [
    "<table class=\"customTable\">\n",
    "  <thead>\n",
    "  <tr>\n",
    "    <th><center>Agencia gubernamental</center></th>\n",
    "    <th><center>Algunos datos disponibles</center></th>\n",
    "  </tr>\n",
    "  </thead>\n",
    "  <tr>\n",
    "    <td>Oficina del Censo</td>\n",
    "    <td>Datos poblacionales, número de familias e ingresos por familia</td>\n",
    "  </tr>\n",
    "  <tr>\n",
    "    <td>Consejo de la Reserva Federal</td>\n",
    "    <td>Datos sobre la masa monetaria, crédito a plazo, tipos de cambio y tasas de descuento</td>\n",
    "  </tr>\n",
    "  <tr>\n",
    "    <td>Oficina de Administración y Presupuesto</td>\n",
    "    <td>Datos sobre ingresos, gastos y deudas del gobierno federal</td>\n",
    "  </tr>\n",
    "  <tr>\n",
    "    <td>Departamento de Comercio</td>\n",
    "    <td>Datos sobre la actividad comercial, valor de las remesas por industria, nivel de utilidades por industria e industrias en crecimiento y en declive</td>\n",
    "  </tr>\n",
    "  <tr>\n",
    "    <td>Oficina de Estadísticas Laborales</td>\n",
    "    <td>Gasto de los consumidores, ganancias por hora, tasa de desempleo, registros de seguridad y estadísticas internacionales</td>\n",
    "  </tr>\n",
    "</table>"
   ]
  },
  {
   "cell_type": "markdown",
   "id": "cd23db81-ca66-4f61-bf89-d7b9b8fff4a8",
   "metadata": {},
   "source": [
    "### <div class = \"indice_titulo\">**Estudios estadísticos**</div>\n",
    "En algunos casos, los datos necesarios no están disponibles y se requiere realizar estudios estadísticos, ya sea experimentales u observacionales, para recopilar la información requerida. Los estudios experimentales buscan establecer una relación causal entre variables, mientras que los estudios observacionales se centran en la observación de fenómenos sin intervenir directamente en ellos.\n",
    "El análisis estadístico de los datos experimentales ayuda a determinar el efecto del nuevo medicamento sobre la presión sanguínea.\n",
    "En los estudios estadísticos no experimentales y observacionales, no se controlan las variables de interés. Un tipo común de estudio observacional es la encuesta, donde se presenta un cuestionario a los individuos de la muestra para obtener información.\n",
    "Los estudios observacionales son utilizados en diversos ámbitos, como la industria de restaurantes, para recopilar datos sobre la calidad de los alimentos, el servicio, etc.\n",
    "Los directivos deben ser conscientes del tiempo y costo requeridos para obtener datos, y en casos de limitaciones de tiempo, es preferible utilizar fuentes de datos existentes.\n",
    "Es importante considerar los posibles errores en la adquisición de datos y asegurarse de que los datos utilizados sean precisos y representativos.\n",
    "Los errores en la adquisición de datos ocurren en diferentes formas y pueden afectar la validez y utilidad de los análisis estadísticos. Es fundamental utilizar métodos precisos para evitar errores en la recopilación de datos\n",
    "\n",
    "### <div class = \"indice_titulo\">**Errores en la adquisición de los datos**</div>\n",
    "Los errores en la adquisición de datos pueden ocurrir de diversas formas, como errores de escritura, malinterpretación de preguntas o respuestas incorrectas dadas por el entrevistado.\n",
    "Los analistas de datos experimentados toman precauciones al recolectar y registrar los datos para evitar errores.\n",
    "Se utilizan procedimientos especiales para verificar la consistencia interna de los datos y revisar valores inusualmente altos o bajos, llamados observaciones atípicas, que pueden indicar posibles errores en los datos.\n",
    "Es importante adquirir datos precisos para evitar la toma de decisiones erróneas basadas en información desorientadora."
   ]
  },
  {
   "cell_type": "markdown",
   "id": "fb5d7e0f",
   "metadata": {},
   "source": [
    "## <div class = \"indice_titulo\"><span class=\"section-number\">1.4</span> **Estadistica Descriptiva**</div>\n",
    "La estadística descriptiva es una forma de resumir y presentar datos en una forma fácil de leer y entender, a través de tablas, gráficos, o resúmenes numéricos.\n",
    "Vuelva al conjunto de datos de la tabla 1.1 que presenta 25 de las empresas de S&P 500. Los métodos de la estadística descriptiva pueden emplearse para resumir la información en este conjunto de datos:\n",
    "\n",
    "1. Resumen tabular: En la tabla 1.4 se presenta un resumen tabular de los datos de la variable bolsa de valores. Porcentualmente, se observa que el 80% de las acciones cotizan en la bolsa de Nueva York, mientras que el 20% cotiza en el Nasdaq.\n",
    "\n",
    "2. Resumen gráfico de barras: La figura 1.5 muestra un resumen gráfico de barras de los datos de la variable bolsa de valores. Este tipo de gráfico facilita la interpretación y muestra claramente que la mayor parte de las acciones cotizan en la bolsa de Nueva York.\n",
    "\n",
    "3. Resumen gráfico de histograma: En la figura 1.6 se presenta un histograma de los datos de la variable cuantitativa precio por acción. El histograma muestra que los precios por acción varían de `$0` a `$100`, con una mayor concentración entre `$20` y `$60`.\n",
    "\n",
    "4. Estadística descriptiva numérica: Además de los resúmenes tabulares y gráficos, se emplea la estadística descriptiva numérica. El estadístico descriptivo más común es el promedio o media. En el caso de los datos de la variable ganancia por acción de las acciones S&P, se calcula el promedio sumando las ganancias por acción de las 25 acciones y dividiendo entre 25.\n"
   ]
  },
  {
   "cell_type": "markdown",
   "id": "9935b035",
   "metadata": {},
   "source": [
    "<p><b style=\"color:green;\"> Tabla 1.4 </b> Cuestionario de opinión del cliente usado por el restaurante Chops City Grill \n",
    "en Naples, Florida </p>"
   ]
  },
  {
   "cell_type": "markdown",
   "id": "f2fc1a24",
   "metadata": {},
   "source": [
    "<table class=\"customTable\">\n",
    "    <thead>\n",
    "        <tr>\n",
    "            <th>Tipo de fondo de inversión</th>\n",
    "            <th>Frecuencia</th>\n",
    "            <th>Frecuencia porcentual</th>\n",
    "        </tr>\n",
    "    </thead>\n",
    "    <tbody>\n",
    "        <tr>\n",
    "            <td>Capital nacional</td>\n",
    "            <td>16</td>\n",
    "            <td>64</td>\n",
    "        </tr>\n",
    "        <tr>\n",
    "            <td>Capital internacional</td>\n",
    "            <td>4</td>\n",
    "            <td>16</td>\n",
    "        </tr>\n",
    "        <tr>\n",
    "            <td>Renta fija</td>\n",
    "            <td>5</td>\n",
    "            <td>20</td>\n",
    "        </tr>\n",
    "        <tr class=\"total-row\">\n",
    "            <td>Totales</td>\n",
    "            <td>25</td>\n",
    "            <td>100</td>\n",
    "        </tr>\n",
    "    </tbody>\n",
    "</table>"
   ]
  },
  {
   "cell_type": "markdown",
   "id": "45d1209e",
   "metadata": {},
   "source": [
    "<p><b style=\"color:green;\"> Figura 1.5 </b> Gráfica de barras para el tipo de fondo de inversión</p>"
   ]
  },
  {
   "cell_type": "code",
   "execution_count": 34,
   "id": "e6c11c50",
   "metadata": {},
   "outputs": [
    {
     "data": {
      "image/png": "[encoded data removed]",
      "text/plain": [
       "<Figure size 1000x500 with 1 Axes>"
      ]
     },
     "metadata": {},
     "output_type": "display_data"
    }
   ],
   "source": [
    "import matplotlib.pyplot as plt\n",
    "\n",
    "funds = ['Capital nacional', 'Capital internacional', 'Renta fija']\n",
    "frequencies = [60, 20, 30]\n",
    "\n",
    "\n",
    "plt.figure(figsize=(10, 5))\n",
    "bars = plt.bar(funds, frequencies, color='#5CCB5F', edgecolor='black')\n",
    "\n",
    "plt.title('Frecuencia porcentual por Tipo de fondo', fontsize=14)\n",
    "plt.xlabel('Tipo de fondo', fontsize=12)\n",
    "plt.ylabel('Frecuencia porcentual', fontsize=12)\n",
    "plt.yticks(range(0, 71, 10))\n",
    "for bar in bars:\n",
    "    yval = bar.get_height()\n",
    "    plt.text(bar.get_x() + bar.get_width()/2, yval + 1, round(yval, 1), ha='center', va='bottom')\n",
    "plt.tight_layout()\n",
    "\n",
    "ax = plt.gca()\n",
    "ax.set_facecolor('#D4F8B7')  # Color de fondo claro\n",
    "fig = plt.gcf()\n",
    "fig.patch.set_facecolor('#D4F8B7')  # Color de fondo para la figura\n",
    "\n",
    "plt.show()\n"
   ]
  },
  {
   "cell_type": "markdown",
   "id": "4182f3d3",
   "metadata": {},
   "source": [
    "<p><b style=\"color:green;\"> Figura 1.6 </b> Histograma del valor de los activos netos para 25 fondos de inversión</p>"
   ]
  },
  {
   "cell_type": "code",
   "execution_count": 35,
   "id": "b6b41804",
   "metadata": {},
   "outputs": [
    {
     "data": {
      "image/png": "[encoded data removed]",
      "text/plain": [
       "<Figure size 1000x500 with 1 Axes>"
      ]
     },
     "metadata": {},
     "output_type": "display_data"
    }
   ],
   "source": [
    "import matplotlib.pyplot as plt\n",
    "import numpy as np\n",
    "\n",
    "asset_values = np.array([15, 30, 45, 60, 75])\n",
    "frequencies = np.array([9, 8, 5, 2, 1])\n",
    "\n",
    "plt.figure(figsize=(10, 5))\n",
    "bars = plt.bar(asset_values, frequencies, width=15, color='#5CCB5F', edgecolor='black', align='center')\n",
    "\n",
    "plt.title('Frecuencia por Valor de los activos netos ($)', fontsize=14)\n",
    "plt.xlabel('Valor de los activos netos ($)', fontsize=12)\n",
    "plt.ylabel('Frecuencia', fontsize=12)\n",
    "\n",
    "plt.xlim(0, 85)\n",
    "plt.ylim(0, 10)\n",
    "\n",
    "ax = plt.gca()\n",
    "ax.set_facecolor('#D4F8B7')  # Color de fondo claro\n",
    "fig = plt.gcf()\n",
    "fig.patch.set_facecolor('#D4F8B7')  # Color de fondo para la figura\n",
    "\n",
    "\n",
    "plt.tight_layout()\n",
    "plt.show()\n"
   ]
  },
  {
   "cell_type": "markdown",
   "id": "57eb110f",
   "metadata": {},
   "source": [
    "## <div class = \"indice_titulo\"><span class=\"section-number\">1.5</span> **Inferencia Estadistica**</div>\n",
    "es utilizada cuando se necesita obtener información sobre grupos grandes de elementos, como individuos, empresas, hogares, etc. Sin embargo, debido a limitaciones de tiempo, costo y otros factores, solo es posible recolectar datos de una pequeña parte de este grupo. A esta gran cantidad de elementos se le denomina población, mientras que al grupo pequeño seleccionado se le llama muestra. En términos formales, se definen estos conceptos de la siguiente manera:\n",
    "\n",
    "- Muestra: Es un subconjunto representativo de la población, obtenido para realizar un estudio o análisis.\n",
    "- Población: Es el conjunto completo de todos los elementos de interés en un estudio específico.\n",
    "\n",
    "La figura 1.6 muestra un histograma de los precios por acción de 25 acciones S&P, donde se observa la frecuencia de los diferentes valores. Esta representación visual facilita identificar la concentración de precios en un rango específico. Considerar tanto medidas descriptivas numéricas como gráficas es fundamental en la estadística descriptiva para resumir y presentar de manera clara la información obtenida.\n",
    "La estadística desempeña un papel importante en la inferencia estadística, que consiste en utilizar datos de una muestra para hacer estimaciones y probar hipótesis sobre las características de una población. Este proceso puede ser realizado a través de un censo, que recolecta datos de toda la población, o a través de una encuesta muestral, que recolecta datos de una muestra representativa de la población.\n",
    "\n",
    "Un ejemplo concreto de inferencia estadística es un estudio realizado por Norris Electronics, donde se fabricaron 200 focos utilizando un nuevo filamento. Los datos recolectados de esta muestra, que indican la duración de cada foco antes de que el filamento se queme, se utilizan para hacer inferencias sobre la duración promedio de todos los focos fabricados con el nuevo filamento. En este caso, se calcula un promedio muestral de 76 horas, lo que sugiere que el tiempo de vida promedio de la población de focos es de 76 horas.\n",
    "\n",
    "Es importante destacar que los estadísticos proporcionan información sobre la calidad o precisión de las estimaciones. En el ejemplo de Norris, se informa que la estimación puntual del tiempo de vida promedio de los focos nuevos es de 76 horas, con un margen de error de ±4 horas. Esto significa que el intervalo de estimación del tiempo de vida promedio de los focos fabricados con el nuevo filamento es de 72 a 80 horas. Además, el estadístico puede indicar el nivel de confianza que tiene en que este intervalo contiene el promedio poblacional.\n",
    "\n",
    "En resumen, la inferencia estadística es un proceso fundamental que permite realizar estimaciones y pruebas sobre características de una población utilizando datos de una muestra representativa. Esta herramienta estadística proporciona información valiosa y precisa para la toma de decisiones.\n"
   ]
  },
  {
   "cell_type": "markdown",
   "id": "73fd60a3",
   "metadata": {},
   "source": [
    "<p><b style=\"color:green;\"> Tabla 1.5 </b> Horas hasta que el filamento se funde para una muestra de 200 focos en el ejemplo \n",
    "de Norris Electronics</p"
   ]
  },
  {
   "cell_type": "markdown",
   "id": "8c70c64a",
   "metadata": {},
   "source": [
    "<table class=\"customTable\">    \n",
    "    <tbody>\n",
    "        <tr>\n",
    "            <td>107</td><td>73</td><td>68</td><td>97</td><td>76</td><td>79</td><td>94</td><td>59</td><td>98</td><td>57</td>\n",
    "        </tr>\n",
    "        <tr>\n",
    "            <td>54</td><td>65</td><td>71</td><td>70</td><td>84</td><td>88</td><td>62</td><td>61</td><td>79</td><td>98</td>\n",
    "        </tr>\n",
    "        <tr>\n",
    "            <td>66</td><td>62</td><td>79</td><td>86</td><td>68</td><td>74</td><td>61</td><td>82</td><td>65</td><td>98</td>\n",
    "        </tr>\n",
    "        <tr>\n",
    "            <td>62</td><td>116</td><td>65</td><td>88</td><td>64</td><td>79</td><td>78</td><td>79</td><td>77</td><td>86</td>\n",
    "        </tr>\n",
    "        <tr>\n",
    "            <td>74</td><td>85</td><td>73</td><td>80</td><td>68</td><td>78</td><td>89</td><td>72</td><td>58</td><td>69</td>\n",
    "        </tr>\n",
    "        <tr>\n",
    "            <td>92</td><td>78</td><td>88</td><td>77</td><td>103</td><td>88</td><td>63</td><td>68</td><td>88</td><td>81</td>\n",
    "        </tr>\n",
    "        <tr>\n",
    "            <td>75</td><td>90</td><td>62</td><td>89</td><td>71</td><td>71</td><td>74</td><td>70</td><td>74</td><td>70</td>\n",
    "        </tr>\n",
    "        <tr>\n",
    "            <td>65</td><td>81</td><td>75</td><td>62</td><td>94</td><td>71</td><td>85</td><td>84</td><td>83</td><td>63</td>\n",
    "        </tr>\n",
    "        <tr>\n",
    "            <td>81</td><td>62</td><td>79</td><td>83</td><td>93</td><td>61</td><td>65</td><td>62</td><td>92</td><td>65</td>\n",
    "        </tr>\n",
    "        <tr>\n",
    "            <td>83</td><td>70</td><td>70</td><td>81</td><td>77</td><td>72</td><td>84</td><td>67</td><td>59</td><td>58</td>\n",
    "        </tr>\n",
    "        <tr>\n",
    "            <td>78</td><td>66</td><td>66</td><td>94</td><td>77</td><td>63</td><td>66</td><td>75</td><td>68</td><td>76</td>\n",
    "        </tr>\n",
    "        <tr>\n",
    "            <td>90</td><td>78</td><td>71</td><td>101</td><td>78</td><td>43</td><td>59</td><td>67</td><td>61</td><td>71</td>\n",
    "        </tr>\n",
    "        <tr>\n",
    "            <td>96</td><td>75</td><td>64</td><td>76</td><td>72</td><td>77</td>\n",
    "        </tr>\n",
    "    </tbody>\n",
    "</table>"
   ]
  },
  {
   "cell_type": "markdown",
   "id": "a1ab5246",
   "metadata": {},
   "source": [
    "## <div class = \"indice_titulo\"><span class=\"section-number\">1.6</span> **Computadoras y análisis estadístico**</div>\n",
    "En el análisis estadístico, se utilizan grandes cantidades de datos, por lo que los analistas emplean software para facilitar este trabajo. Por ejemplo, en el caso del estudio de Norris Electronics, el cálculo del tiempo promedio de vida útil de los focos sería tedioso sin el uso de una computadora. Para facilitar su manejo, los datos utilizados en este libro se proporcionan en un disco compacto, en formatos compatibles con programas como Minitab y Excel."
   ]
  },
  {
   "cell_type": "markdown",
   "id": "f762dccc",
   "metadata": {},
   "source": [
    "## <div class = \"indice_titulo\"><span class=\"section-number\">1.7</span> **Minería de datos**</div>\n",
    "La minería de datos es el proceso de convertir estos grandes volúmenes de datos en información útil para la toma de decisiones. Utiliza técnicas de estadística, matemáticas y ciencias de la computación para \"extraer\" información de los datos almacenados. Kurt Thearling, un experto en el campo, define la minería de datos como la extracción automatizada de información predictiva de grandes bases de datos. Esta práctica es especialmente prevalente en sectores orientados al consumidor, como el comercio minorista y las telecomunicaciones.\n",
    "\n",
    "Las aplicaciones de la minería de datos incluyen la identificación de patrones de compra en sitios como Amazon, donde se sugieren productos adicionales a los clientes, o la identificación de consumidores propensos a gastar más en ciertas compras. La minería de datos se basa en métodos estadísticos como la regresión múltiple y logística, pero también requiere una integración creativa de inteligencia artificial y aprendizaje automático.\n",
    "\n",
    "La implementación de software de minería de datos, desarrollado por empresas como Oracle, Teradata y SAS, implica una inversión significativa de tiempo y dinero. Los modelos estadísticos desempeñan un papel crucial en el desarrollo de modelos predictivos en la minería de datos, pero también presentan desafíos como la confiabilidad y el riesgo de sobreajustar los modelos a los datos disponibles. La minería de datos supera algunos de estos desafíos mediante la partición de los datos en conjuntos de entrenamiento y prueba para validar la confiabilidad de los modelos. Sin embargo, se requiere una interpretación cuidadosa y pruebas adicionales para evitar conclusiones erróneas."
   ]
  },
  {
   "cell_type": "markdown",
   "id": "1bcdd677",
   "metadata": {},
   "source": [
    "## <div class = \"indice_titulo\"><span class=\"section-number\">1.8</span> **Lineamientos éticos para la práctica estadística**</div>\n",
    "Se recomienda actuar con justicia, meticulosidad, objetividad y neutralidad en todas las fases del trabajo estadístico, incluyendo la recopilación de datos, análisis, presentaciones y redacción de informes. Además, como consumidores de estadísticas, se aconseja mantener un escepticismo saludable sobre la información recibida, prestando atención a su origen, propósito y objetividad.\n",
    "\n",
    "La American Statistical Association ha elaborado \"Ethical Guidelines for Statistical Practice\", un documento que establece pautas éticas para profesionales y estudiantes en estadística. Estas pautas cubren áreas como profesionalismo, responsabilidades hacia fundadores, clientes, empleadores, sujetos de investigación, colegas, otros profesionales y cuestiones relacionadas con acusaciones de conducta poco ética.\n",
    "\n",
    "Un ejemplo ilustrativo de comportamiento poco ético es la manipulación de resultados en estudios estadísticos, como en el caso de Norris Electronics, donde se altera la muestra para lograr un resultado deseado (vida útil promedio de focos). Este tipo de manipulación es considerada poco ética y un uso incorrecto de la estadística.\n",
    "\n",
    "Otra práctica poco ética mencionada es el sesgo intencionado en la selección de muestras, como en el ejemplo de estudios sobre fumadores en restaurantes. Tales prácticas pueden llevar a conclusiones engañosas si se ignora el contexto de cómo se recopiló la muestra.\n",
    "\n",
    "El texto concluye sugiriendo que la lectura del informe de la American Statistical Association puede proporcionar una perspectiva más amplia sobre los problemas éticos en estadística, siendo útil tanto para expertos como para consumidores de estadísticas. También insta a asegurar que las normas éticas se mantengan en la práctica de la estadística."
   ]
  },
  {
   "cell_type": "markdown",
   "id": "e2d0f062",
   "metadata": {},
   "source": [
    "<style>\n",
    "    .ejercicios{\n",
    "        color:white;\n",
    "        background-color:#009929;\n",
    "        padding-left:20px;\n",
    "    }\n",
    "</style>\n",
    "### <div class = \"ejercicios\">**Resumen**</div>\n",
    "La estadística es el arte y la ciencia de recopilar, analizar, presentar e interpretar datos. Es una materia que, en su mayoría, es necesaria para los estudiantes de negocios y economía. En este libro, se describen las aplicaciones típicas de la estadística en estos campos."
   ]
  },
  {
   "cell_type": "markdown",
   "id": "d532972d",
   "metadata": {},
   "source": [
    "<style>\n",
    "    .ejercicios{\n",
    "        color:white;\n",
    "        background-color:#009929;\n",
    "        padding-left:20px;\n",
    "    }\n",
    "</style>\n",
    "### <div class = \"ejercicios\">**Ejercicios complementarios**</div>\n",
    "\n",
    "<a href=\"https://colab.research.google.com/drive/1_b_TuVNdspjLFQ20WJbsnI9BEJze0MrO?usp=sharing\" target=\"_blank\"><img src=\"https://colab.research.google.com/assets/colab-badge.svg\" alt=\"Open In Colab\"/></a>"
   ]
  },
  {
   "cell_type": "markdown",
   "id": "a266ab62",
   "metadata": {},
   "source": [
    "<span style=\"color: #009929;\">**Ejercicio 1.**  </span>Comente las diferencias entre la estadística como hechos numéricos y las estadística como una disciplina o campo de estudio."
   ]
  },
  {
   "cell_type": "markdown",
   "id": "3b2c0415",
   "metadata": {},
   "source": [
    "_<center>La estadística como hechos numéricos se centra en el uso práctico de herramientas estadísticas para analizar datos, mientras que la estadística como disciplina se enfoca en el desarrollo de métodos, teorías y enfoques para entender la variabilidad y tomar decisiones informadas en un contexto más amplio. Ambas perspectivas son interdependientes y se complementan entre sí para proporcionar una comprensión completa y rigurosa de los datos y fenómenos estudiados</center>_ "
   ]
  },
  {
   "cell_type": "markdown",
   "id": "7d917f21",
   "metadata": {},
   "source": [
    "<span style=\"color: #009929;\">**Ejercicio 2.**  </span> El departamento de energia de Estados Unidos proporciona información sobre economía de combustible para diversos vehiculos de motor. Una muestra de 10 automóviles se presenta en la tabla 1.6 (sitio web Fuel Economy, 22 de febrero de 2008). Los datos indican el tamaño de automóvil (compacto, mediano o grande), el número de cilindros de motor, las millas por galón en la ciudad, las millas por galón en autopista y el combustible recomendado(diesel, premium o regular).<br>\n",
    "\n",
    "_a)_ ¿Cuátos elementos hay en este banco de datos?<br> \n",
    "_b)_ ¿Cuántas variables hay e este banco de datos?<br>\n",
    "_c)_ ¿Cuáles variables son categóricas y cúales son cuantitativas?<br>\n",
    "_d)_ ¿Qué tipo de escala de medición se usa ara cada una de las variables?"
   ]
  },
  {
   "cell_type": "markdown",
   "id": "59a33008",
   "metadata": {},
   "source": [
    "<p>a)<center> Hay 10 elementos en este conjunto de datos.</center><br>\n",
    "b) <center>Hay cinco variables en este conjunto de datos: Tamaño, Cilindros, Ciudad, Autopista y Combustible.</center><br>\n",
    "c) <center>Las Variables categóricas son Tamaño y Combustible. Las variables cuantitativas son Cilindros,MPG en la ciudad y MPG en autopista.</center><br>\n",
    "d) <center><br>\n",
    "- Tamaño: Ordinal.<br>\n",
    "- Cilindros: de razón.<br>\n",
    "- MPG Ciudad: de razón<br>\n",
    "- MPG Autopista: de razón<br>\n",
    "- Combustible: Nominal</center></p>"
   ]
  },
  {
   "cell_type": "markdown",
   "id": "25019c9b",
   "metadata": {},
   "source": [
    "<span style=\"color: #009929;\">**Ejercicio 3.**  </span> Consulta la tabla 1.6<br>\n",
    "\n",
    "_a)_ ¿Cuántas millas por galó se consumen en la ciudad?<br>\n",
    "_b)_ En promedio, ¿cuántas millas más por galón se obtinen al conducir en autopista que en la ciudad?<br>\n",
    "_c)_ ¿Qué porcentaje de los automóviles tiene motores de cuatro cilindros?<br>\n",
    "_d)_ ¿Qué porcentaje de los vehículos usa combustible regular?<br>"
   ]
  },
  {
   "cell_type": "code",
   "execution_count": 1,
   "id": "ba0d2ea0",
   "metadata": {},
   "outputs": [
    {
     "name": "stdout",
     "output_type": "stream",
     "text": [
      "a) Millas por galón en la ciudad: 182\n",
      "182/10 =  18.2 mpg\n",
      "\n",
      "b) Millas por galón en autopista: 261\n",
      "261/10 = 26.1 mpg\n",
      "\n",
      "Promedio de millas más por galón en autopista que en ciudad: 7.9 millas por galón(mpg)\n",
      "\n",
      "c) Porcentaje de automóviles con motores de cuatro cilindros: 30.00%\n",
      "d) Porcentaje de vehículos que usan combustible regular: 60.00%\n"
     ]
    }
   ],
   "source": [
    "# Datos de la tabla\n",
    "vehiculos = [\n",
    "    {\"modelo\": \"Audi A8\", \"cilindros\": 12, \"ciudad\": 13, \"autopista\": 19, \"combustible\": \"Premium\"},\n",
    "    {\"modelo\": \"BMW 328Xi\", \"cilindros\": 6, \"ciudad\": 17, \"autopista\": 25, \"combustible\": \"Premium\"},\n",
    "    {\"modelo\": \"Cadillac CTS\", \"cilindros\": 6, \"ciudad\": 16, \"autopista\": 25, \"combustible\": \"Regular\"},\n",
    "    {\"modelo\": \"Chrysler 300\", \"cilindros\": 8, \"ciudad\": 13, \"autopista\": 18, \"combustible\": \"Premium\"},\n",
    "    {\"modelo\": \"Ford Focus\", \"cilindros\": 4, \"ciudad\": 24, \"autopista\": 33, \"combustible\": \"Regular\"},\n",
    "    {\"modelo\": \"Hyundai Elantra\", \"cilindros\": 4, \"ciudad\": 25, \"autopista\": 33, \"combustible\": \"Regular\"},\n",
    "    {\"modelo\": \"Jeep Grand Cherokee\", \"cilindros\": 6, \"ciudad\": 17, \"autopista\": 26, \"combustible\": \"Diesel\"},\n",
    "    {\"modelo\": \"Pontiac G6\", \"cilindros\": 6, \"ciudad\": 15, \"autopista\": 22, \"combustible\": \"Regular\"},\n",
    "    {\"modelo\": \"Toyota Camry\", \"cilindros\": 4, \"ciudad\": 21, \"autopista\": 31, \"combustible\": \"Regular\"},\n",
    "    {\"modelo\": \"Volkswagen Jetta\", \"cilindros\": 5, \"ciudad\": 21, \"autopista\": 29, \"combustible\": \"Regular\"},\n",
    "]\n",
    "\n",
    "# a) Millas por galón en la ciudad\n",
    "millas_ciudad = [13,17,16,13,24,25,17,15,21,21]\n",
    "suma_millas_ciudad = sum(millas_ciudad)\n",
    "\n",
    "# b) Diferencia de millas por galón en autopista y ciudad\n",
    "diferencia_millas = [19,25,25,18,33,33,26,22,31,29]\n",
    "suma_millas_autopista=sum(diferencia_millas)\n",
    "promedio_diferencia_millas = 7.9\n",
    "\n",
    "# c) Porcentaje de automóviles con motores de cuatro cilindros\n",
    "cuatro_cilindros = [vehiculo for vehiculo in vehiculos if vehiculo[\"cilindros\"] == 4]\n",
    "porcentaje_cuatro_cilindros = (len(cuatro_cilindros) / len(vehiculos)) * 100\n",
    "\n",
    "# d) Porcentaje de vehículos que usan combustible regular\n",
    "combustible_regular = [vehiculo for vehiculo in vehiculos if vehiculo[\"combustible\"] == \"Regular\"]\n",
    "porcentaje_combustible_regular = (len(combustible_regular) / len(vehiculos)) * 100\n",
    "\n",
    "# Mostrar resultados\n",
    "print(\"a) Millas por galón en la ciudad:\", suma_millas_ciudad)\n",
    "print (\"182/10 = \",(suma_millas_ciudad/10),\"mpg\")\n",
    "print(\"\\nb) Millas por galón en autopista:\",suma_millas_autopista)\n",
    "print(\"261/10 =\",(suma_millas_autopista/10),\"mpg\")\n",
    "print(f\"\\nPromedio de millas más por galón en autopista que en ciudad: {promedio_diferencia_millas:.1f} millas por galón(mpg)\")\n",
    "print(f\"\\nc) Porcentaje de automóviles con motores de cuatro cilindros: {porcentaje_cuatro_cilindros:.2f}%\")\n",
    "print(f\"d) Porcentaje de vehículos que usan combustible regular: {porcentaje_combustible_regular:.2f}%\")"
   ]
  },
  {
   "cell_type": "markdown",
   "id": "e283c9d3",
   "metadata": {},
   "source": [
    "<p style=\"color: #009929;\"><b style=\"color:green;\"> Tabla 1.6 </b> Información sobre economía de combustible para 10 automóviles</p>\n",
    "<table class=\"customTable\" style=\"border-top:3px solid #009929;border-bottom:3px solid #009929;background-color:#D4F8B7;font-size:14px;\">\n",
    "  <thead>\n",
    "    <tr>\n",
    "      <th scope=\"col\"><center>Vehículo</center></th>\n",
    "      <th scope=\"col\"><center>Tamaño</center></th>\n",
    "      <th scope=\"col\"><center>Cilindros</center></th>\n",
    "      <th scope=\"col\"><center>MPG* <br>Ciudad</center></th>\n",
    "        <th scope=\"col\"><center>MPG <br>Autopista</center></th>\n",
    "        <th scope=\"col\"><center>Combustible</center></th>\n",
    "    </tr>\n",
    "  </thead>\n",
    "  <tbody>\n",
    "    <tr>\n",
    "      <td >Audi A8</td>\n",
    "      <td>Grande</td>\n",
    "      <td style=\"text-align:center\">12</td>\n",
    "      <td style=\"text-align:center\">13</td>\n",
    "        <td style=\"text-align:center\">19</td>\n",
    "        <td>Premium</td>\n",
    "    </tr>\n",
    "    <tr>\n",
    "      <td>BMW 238Xi</td>\n",
    "      <td>Compacto</td>\n",
    "      <td style=\"text-align:center\">6</td>\n",
    "      <td style=\"text-align:center\">17</td>\n",
    "        <td style=\"text-align:center\">25</td>\n",
    "        <td>Premium</td>\n",
    "    </tr>\n",
    "      <tr>\n",
    "      <td>Cadillac CTS</td>\n",
    "      <td>Mediano</td>\n",
    "      <td style=\"text-align:center\">6</td>\n",
    "      <td style=\"text-align:center\">16</td>\n",
    "        <td style=\"text-align:center\">25</td>\n",
    "        <td>Regular</td>\n",
    "    </tr>\n",
    "      <tr>\n",
    "      <td>Chrysler 300</td>\n",
    "      <td>Grande</td>\n",
    "      <td style=\"text-align:center\">8</td>\n",
    "      <td style=\"text-align:center\">13</td>\n",
    "        <td style=\"text-align:center\">18</td>\n",
    "        <td>Premium</td>\n",
    "    </tr>\n",
    "      <tr>\n",
    "      <td>Ford Focus</td>\n",
    "      <td>Compacto</td>\n",
    "      <td style=\"text-align:center\">4</td>\n",
    "      <td style=\"text-align:center\">24</td>\n",
    "        <td style=\"text-align:center\">33</td>\n",
    "        <td>Regular</td>\n",
    "    </tr>\n",
    "      <tr>\n",
    "      <td>Hyundai Elantra</td>\n",
    "      <td>Mediano</td>\n",
    "      <td style=\"text-align:center\">4</td>\n",
    "      <td style=\"text-align:center\">25</td>\n",
    "        <td style=\"text-align:center\">33</td>\n",
    "        <td>Regular</td>\n",
    "    </tr>\n",
    "      <tr>\n",
    "      <td>Jeep Grand Cherokee</td>\n",
    "      <td>Mediano</td>\n",
    "      <td style=\"text-align:center\">6</td>\n",
    "      <td style=\"text-align:center\">17</td>\n",
    "        <td style=\"text-align:center\">26</td>\n",
    "        <td>Diesel</td>\n",
    "    </tr>\n",
    "      <tr>\n",
    "      <td>Pontiac G6</td>\n",
    "      <td>Compacto</td>\n",
    "      <td style=\"text-align:center\">6</td>\n",
    "      <td style=\"text-align:center\">15</td>\n",
    "        <td style=\"text-align:center\">22</td>\n",
    "        <td>Regular</td>\n",
    "    </tr>\n",
    "      <tr>\n",
    "      <td>Toyota Camry</td>\n",
    "      <td>Mediano</td>\n",
    "      <td style=\"text-align:center\">4</td>\n",
    "      <td style=\"text-align:center\">21</td>\n",
    "        <td style=\"text-align:center\">31</td>\n",
    "        <td>Regular</td>\n",
    "    </tr>\n",
    "      <tr>\n",
    "      <td>Volkswagen Jetta</td>\n",
    "      <td>Compacto</td>\n",
    "      <td style=\"text-align:center\">5</td>\n",
    "      <td style=\"text-align:center\">21</td>\n",
    "        <td style=\"text-align:center\">29</td>\n",
    "        <td>Regular</td>\n",
    "    </tr>\n",
    "  </tbody>\n",
    "  <tfoot>\n",
    "    <tr>\n",
    "      <td>* Millas por galón</td>\n",
    "    </tr>\n",
    "  </tfoot>\n",
    "</table>\n"
   ]
  },
  {
   "cell_type": "markdown",
   "id": "da6147b0",
   "metadata": {},
   "source": [
    "<p style=\"color: #009929;\"><b style=\"color:green;\"> Tabla 1.7 </b> Datos para siete colegios y universidades</p>\n",
    "<table class=\"customTable\" style=\"border-top:3px solid #009929;border-bottom:3px solid #009929;background-color:#D4F8B7;font-size:14px;\">\n",
    "  <thead>\n",
    "    <tr>\n",
    "      <th scope=\"col\" ><center>Escuela</center></th>\n",
    "      <th scope=\"col\"><center>Estado</center></th>\n",
    "      <th scope=\"col\"><center>Campus</center></th>\n",
    "      <th scope=\"col\"><center>Inversion <br>($ miles <br>de millones)</th>\n",
    "      <th scope=\"col\"><center>% de <br>solicitantes <br>admitidos</th>\n",
    "      <th scope=\"col\"><center>Division<br> de la <br>NCAA</th>\n",
    "    </tr>\n",
    "  </thead>\n",
    "  <tbody>\n",
    "    <tr>\n",
    "      <td >Amherst College</td>\n",
    "      <td>Massachusetts</td>\n",
    "      <td >Pueblo: pequeño</td>\n",
    "      <td style=\"text-align:center\">1.7</td>\n",
    "        <td style=\"text-align:center\">18</td>\n",
    "        <td style=\"text-align:center\">III</td>\n",
    "    </tr>\n",
    "    <tr>\n",
    "      <td>Duke</td>\n",
    "      <td>Carolina del Norte</td>\n",
    "      <td >Ciudad: mediana</td>\n",
    "      <td style=\"text-align:center\">5.9</td>\n",
    "        <td style=\"text-align:center\">21</td>\n",
    "        <td style=\"text-align:center\">I-A</td>\n",
    "    </tr>\n",
    "      <tr>\n",
    "      <td>Universidad de Harvard</td>\n",
    "      <td>Massachusetts</td>\n",
    "      <td>Ciudad: mediana</td>\n",
    "      <td style=\"text-align:center\">34.6</td>\n",
    "        <td style=\"text-align:center\">9</td>\n",
    "        <td style=\"text-align:center\">I-AA</td>\n",
    "    </tr>\n",
    "      <tr>\n",
    "      <td>Swarthmore Collage</td>\n",
    "      <td>Pennsylvania</td>\n",
    "      <td >Suburbio: grande</td>\n",
    "      <td style=\"text-align:center\">1.4</td>\n",
    "        <td style=\"text-align:center\">18</td>\n",
    "        <td style=\"text-align:center\">III</td>\n",
    "    </tr>\n",
    "      <tr>\n",
    "      <td>Universidad de Pennsylvania</td>\n",
    "      <td>Pennsylvania</td>\n",
    "      <td >Ciudad: grande</td>\n",
    "      <td style=\"text-align:center\">6.6</td>\n",
    "        <td style=\"text-align:center\">18</td>\n",
    "        <td style=\"text-align:center\">I-AA</td>\n",
    "    </tr>\n",
    "      <tr>\n",
    "      <td>Williams Collage</td>\n",
    "      <td>Massachusetts</td>\n",
    "      <td >Pueblo: pequeño</td>\n",
    "      <td style=\"text-align:center\">1.9</td>\n",
    "        <td style=\"text-align:center\">18</td>\n",
    "        <td style=\"text-align:center\">III</td>\n",
    "    </tr>\n",
    "      <tr>\n",
    "      <td>Universidad de Yale</td>\n",
    "      <td>Connecticut</td>\n",
    "      <td >Ciudad: mediana</td>\n",
    "      <td style=\"text-align:center\">22.5</td>\n",
    "        <td style=\"text-align:center\">9</td>\n",
    "        <td style=\"text-align:center\">I-AA</td>\n",
    "   \n",
    "  </tbody>\n",
    "  <tfoot>\n",
    "  </tfoot>\n",
    "</table>"
   ]
  },
  {
   "cell_type": "markdown",
   "id": "6d3e2459",
   "metadata": {},
   "source": [
    "<span style=\"color: #009929;\">**Ejercicio 4.**  </span> La Tabla 1.7 muestra datos para siete colegios y universidades considerando la inversión(en miles de millones de dólares) y el porcentaje de solicitantes admitido(USA Today, 3 de febrero de 2008). El estado en que se localiza cada escuela, el campus y la División de NCAA para los equipos colegiales se obtuvieron del sitio web National Center of Education Statistics (22 de febrero de 2008).<br>\n",
    "\n",
    "_a)_ ¿Cuántos elementos hay en el banco de datos?<br>\n",
    "_b)_ ¿Cuántas variables hay en el banco de datos?<br>\n",
    "_c)_ ¿Cuáles variables son categóricas y cuáles son cuantitativas?</p>"
   ]
  },
  {
   "cell_type": "markdown",
   "id": "fd7de28a",
   "metadata": {},
   "source": [
    "a)<br>\n",
    " <center>Contando las filas, hay 7 elementos en el banco de datos, uno para cada escuela o universidad.</center><br>\n",
    "b)<br> \n",
    " <center>Contando las columnas, hay 5 variables en el banco de datos.</center><br>\n",
    "c) \n",
    "- Variables cuantitativas: <br>\n",
    "    1. Activos\n",
    "    2. % de solicitantes admitidos\n",
    "- Variables categóricas: <br>\n",
    "    1. Estado\n",
    "    2. Campo de juego\n",
    "    3. División NCAA"
   ]
  },
  {
   "cell_type": "markdown",
   "id": "bf5fcac8",
   "metadata": {},
   "source": [
    "<span style=\"color: #009929;\">**Ejercicio 5.**  </span> Considere el banco de datos de la tabla 7.1<br>\n",
    "\n",
    "_a)_ Calcule la inversión promedio para la muestra.<br> \n",
    "_b)_ Calcule el porcentaje promedio de solicitantes admitidos.<br>\n",
    "_c)_ ¿Qué porcentajes de las escuelas tiene equipos colegiales de división III de la NCAA?<br>\n",
    "_d)_ ¿Qué porcentaje de las escuelas tiene un campus en una ciudad mediana?"
   ]
  },
  {
   "cell_type": "markdown",
   "id": "26d716c3",
   "metadata": {},
   "source": [
    "<p>a) - Hay 7 elementos en este banco de datos, ya que la tabla presenta datos para siete colegios y universidades.\n",
    "<br>\n",
    "b) - Hay 6 variables en este banco de datos. Las variables son:\n",
    "  1. Escuela\n",
    "  2. Estado\n",
    "  3. Campus\n",
    "  4. Inversión ($ miles de millones)\n",
    "  5. % de solicitantes admitidos\n",
    "  6. División de la NCAA\n",
    "<br>\n",
    "c) - Variables categóricas:\n",
    "  - Escuela\n",
    "  - Estado\n",
    "  - Campus\n",
    "  - División de la NCAA\n",
    "\n",
    "- Variables cuantitativas:\n",
    "  - Inversión ($ miles de millones)\n",
    "  - % de solicitantes admitidos\n",
    "<br>\n",
    "d) - Escala nominal:\n",
    "  - Escuela\n",
    "  - Estado\n",
    "  - Campus\n",
    "  - División de la NCAA\n",
    "\n",
    "- Escala de intervalo:\n",
    "  - Inversión ($ miles de millones)\n",
    "  - % de solicitantes admitidos\n",
    "</p>"
   ]
  },
  {
   "cell_type": "markdown",
   "id": "81c7e10b",
   "metadata": {},
   "source": [
    "<span style=\"color: #009929;\">**Ejercicio 6.**  </span> La revista Foreign Affairs realizó una encuesta para desarrollar un perfil de sus suscriptores (sitio web Foreign Affairs, 23 de febrero de 2008).Se formularon las preguntas siguientes.<br>\n",
    "\n",
    "_a)_ ¿Cuántas noches ha permanecido en un hotel en los 12 meses anteriores?<br> \n",
    "_b)_ ¿Dónde adquiere sus libros? Se listaron tres opciones: Bookstore, Internet y Book Club.<br>\n",
    "_c)_ ¿Posee o alquila un vehículo de lujo? (Sí o No)<br>\n",
    "_d)_ ¿Qué edad tiene?\n",
    "_e)_ Para los viajes al extranjero realizados en los tres años pasados ¿cuál fue su destino? Se listaron siste destinos internacionales.<br>\n",
    "_Comente si cada pregunta proporciona datos categóricos o cuantitativos_"
   ]
  },
  {
   "cell_type": "markdown",
   "id": "f210e57e",
   "metadata": {},
   "source": [
    "<p>a) - Respuesta: Datos cuantitativos\n",
    "\n",
    "<br>\n",
    "b) - Respuesta: Datos categóricos (nominales)\n",
    "\n",
    "<br>\n",
    "c) - Respuesta: Datos categóricos (nominales)\n",
    "\n",
    "<br>\n",
    "d) - Respuesta: Datos cuantitativos\n",
    "<br>\n",
    "    e) - Respuesta: Datos categóricos (nominales)\n",
    "\n",
    "</p>"
   ]
  },
  {
   "cell_type": "markdown",
   "id": "91a2eb05",
   "metadata": {},
   "source": [
    "<span style=\"color: #009929;\">**Ejercicio 7.**  </span> El hotel Ritz-Carlton aplicó un cuestionario de opinión del cliente para obtener datos sobre el desempeño de sus servicios de comedor y entretenimiento(The Ritz-Carlton Hotel, Naples, Florida, febrero de 2006). Se pidió a los clientes que se calificaran seis factores: bienvenida, servicion, alimentos, atractivo del menú, atmósfera y experiencia general. Se registraron datos para cada factor con las calificaiones de 1 para aceptable, 2 para normal, 3 para bueno y 4 para excelente.<br>\n",
    "\n",
    "_a)_ Las respuestas de los clientes proporcionaron datos para seis variables. ¿Estas variables son categóricas o cuantitativas?<br> \n",
    "_b)_ ¿Qué escala de medición se utiliza?<br>"
   ]
  },
  {
   "cell_type": "markdown",
   "id": "e0d791cb",
   "metadata": {},
   "source": [
    "<p>a) - Respuesta: Las variables son categóricas, ya que representan la calificación de factores como bienvenida, servicio, alimentos, atractivo del menú, atmósfera y experiencia general con valores discretos de 1 a 4.\n",
    "\n",
    "\n",
    "<br>\n",
    "b) - Respuesta: Se utiliza una escala ordinal, ya que los valores (1, 2, 3, 4) indican un orden de menor a mayor, pero la diferencia entre los valores no es necesariamente uniforme. Además, la escala es discreta, ya que los clientes seleccionan valores específicos (1, 2, 3, 4) en lugar de tener opciones continuas.\n",
    "\n",
    "\n",
    "</p>"
   ]
  },
  {
   "cell_type": "markdown",
   "id": "78ce505a",
   "metadata": {},
   "source": [
    "<span style=\"color: #009929;\">**Ejercicio 8.**  </span> El programa FinancialTimes/Harris Poll es una encuesta mensual en línea para adultos de seis países de Europa y Estados Unidos. Una encuesta de enero incluyó a 1015 adultos de Estados Unidos. Una de las preguntas fue: \"¿Cómo calificaría usted al Federal Bank en el manejo de los problemas de crédito en los mercados financieros?\" Las respuestas posibles fueron excelente, bueno, aceptable, malo y muy malo(sitio web Harris Interactive, enero de 2008).<br>\n",
    "\n",
    "_a)_ ¿De qué tamaño fue la muestra para esta encuesta?<br> \n",
    "_b)_ ¿Los datos son categóricos o cuantitativos?<br>\n",
    "_c)_ ¿Tendría más sentido usar promedios o porcentajes como resumen de los datos para esta pregunta?<br>\n",
    "_d)_ De los encuestados en Estados Unidos, 10% dijo que el Federal Bank está efectuando un buen trabajo. ¿Cuántas personas proporcionaron esta respuesta?"
   ]
  },
  {
   "cell_type": "markdown",
   "id": "307514ce",
   "metadata": {},
   "source": [
    "<p>a) - Respuesta: La información proporcionada no especifica el tamaño exacto de la muestra. Sería necesario tener esa información específica para responder a esta pregunta.\n",
    "\n",
    "\n",
    "<br>\n",
    "b) - Respuesta: Los datos son categóricos, ya que las respuestas posibles son categorías como \"excelente\", \"bueno\", \"aceptable\", \"malo\" y \"muy malo\".\n",
    "\n",
    "\n",
    "<br>\n",
    "c) - Respuesta: Dado que las respuestas son categorías ordinales, tendría más sentido utilizar porcentajes para resumir los datos. Calificar el desempeño en términos de porcentajes permitiría comprender la proporción de personas que eligieron cada categoría en relación con el total de encuestados.\n",
    "\n",
    "\n",
    "<br>\n",
    "d) - Respuesta: La cantidad de personas que proporcionaron esta respuesta no se puede determinar sin conocer el tamaño total de la muestra. Para calcular el número exacto, necesitarías el tamaño total de la muestra y calcular el 10% de esa cifra.\n",
    "\n",
    "<br>\n",
    "\n",
    "</p>"
   ]
  },
  {
   "cell_type": "markdown",
   "id": "042ed078",
   "metadata": {},
   "source": [
    "<span style=\"color: #009929;\">**Ejercicio 9.**  </span> El Departamento de Comercio informó que recibió las aplicaciones siguientes para el Premio Nacional de Calidad Malcolm Baldrige: 23 de las empresas de manufactura grandes, 18 de las empresas de servicios grandes y 30 de las pequeñas empresas. <br>\n",
    "\n",
    "_a)_ ¿El tipo de empresa es una variable categórica o cuantitativa?<br> \n",
    "_b)_ ¿Qué porcentaje de las aplicaciones proviene de las pequeñas empresas?<br>"
   ]
  },
  {
   "cell_type": "markdown",
   "id": "16ed50ba",
   "metadata": {},
   "source": [
    "<p>a) - Respuesta: El tipo de empresa es una variable categórica, ya que se clasifica en categorías discretas: empresas de manufactura grandes, empresas de servicios grandes y pequeñas empresas.\n",
    "\n",
    "<br>\n",
    "b) - Respuesta: Para calcular el porcentaje de aplicaciones provenientes de las pequeñas empresas, podemos utilizar la fórmula:\n",
    "\n",
    "$$ \\text{Porcentaje de pequeñas empresas} = \\left( \\frac{\\text{Número de aplicaciones de pequeñas empresas}}{\\text{Total de aplicaciones}} \\right) \\times 100 $$\n",
    "\n",
    "Dado que el número de aplicaciones de pequeñas empresas es 30 y el total de aplicaciones es la suma de los tres tipos de empresas (23 + 18 + 30 = 71), podemos calcular el porcentaje:\n",
    "\n",
    "$$ \\text{Porcentaje de pequeñas empresas} = \\left( \\frac{30}{71} \\right) \\times 100 \\approx 42.25\\% $$\n",
    "\n",
    "Por lo tanto, aproximadamente el 42.25% de las aplicaciones proviene de las pequeñas empresas.\n",
    "\n",
    "\n",
    "<br>\n",
    "</p>"
   ]
  },
  {
   "cell_type": "markdown",
   "id": "43326b4e",
   "metadata": {},
   "source": [
    "<span style=\"color: #009929;\">**Ejercicio 10.**  </span> La encuesta a suscriptores de The Wall Street Journal (WSJ) (13 de octubre de 2003) formuló 46 preguntas sobre las características y los intereses de los lectores. Determine si cada una de las \n",
    "preguntas siguientes proporcionó datos categóricos o cuantitativos, e indique la escala de me\u0002dición apropiada para cada uno.<br> \n",
    "\n",
    "_a)_ ¿Qué edad tiene?<br>\n",
    "_b)_ ¿Es usted hombre o mujer?<br>\n",
    "_c)_ ¿Cuándo empezó a leer el WSJ? ¿En secundaria, bachillerato, a principios de la carrera, a mitad de la carrera, a finales de la carrera o en el retiro?<br>\n",
    "_d)_ ¿Cuánto tiempo lleva en su empleo o puesto actual?<br>\n",
    "_e)_ ¿Qué tipo de vehículo está considerando para su compra siguiente? Nueve categorías de respuesta incluyen automóviles sedán, automóviles deportivos, vehículos todo terreno, minivans, etcétera."
   ]
  },
  {
   "cell_type": "code",
   "execution_count": 2,
   "id": "62806673",
   "metadata": {},
   "outputs": [
    {
     "name": "stdout",
     "output_type": "stream",
     "text": [
      "a. ¿Cuál es su edad?\n",
      "  - Tipo de Datos: Cuantitativos\n",
      "  - Escala de Medición: Razón\n",
      "\n",
      "b. ¿Es usted hombre o mujer?\n",
      "  - Tipo de Datos: Cualitativos\n",
      "  - Escala de Medición: Nominal\n",
      "\n",
      "c. ¿Cuándo empezó a leer el WSJ?\n",
      "  - Tipo de Datos: Cualitativos\n",
      "  - Escala de Medición: Ordinal\n",
      "\n",
      "d. ¿Cuánto tiempo hace que tiene su trabajo o cargo actual?\n",
      "  - Tipo de Datos: Cuantitativos\n",
      "  - Escala de Medición: Razón\n",
      "\n",
      "e. ¿Qué tipo de automóvil piensa comprarse la próxima vez que compre uno?\n",
      "  - Tipo de Datos: Cualitativos\n",
      "  - Escala de Medición: Nominal\n",
      "\n"
     ]
    }
   ],
   "source": [
    "# Creando un diccionario con las preguntas y sus respectivas respuestas\n",
    "respuesta_encuesta = {\n",
    "    \"a. ¿Cuál es su edad?\": {\n",
    "        \"Tipo de Datos\": \"Cuantitativos\",\n",
    "        \"Escala de Medición\": \"Razón\"\n",
    "    },\n",
    "    \"b. ¿Es usted hombre o mujer?\": {\n",
    "        \"Tipo de Datos\": \"Cualitativos\",\n",
    "        \"Escala de Medición\": \"Nominal\"\n",
    "    },\n",
    "    \"c. ¿Cuándo empezó a leer el WSJ?\": {\n",
    "        \"Tipo de Datos\": \"Cualitativos\",\n",
    "        \"Escala de Medición\": \"Ordinal\"\n",
    "    },\n",
    "    \"d. ¿Cuánto tiempo hace que tiene su trabajo o cargo actual?\": {\n",
    "        \"Tipo de Datos\": \"Cuantitativos\",\n",
    "        \"Escala de Medición\": \"Razón\"\n",
    "    },\n",
    "    \"e. ¿Qué tipo de automóvil piensa comprarse la próxima vez que compre uno?\": {\n",
    "        \"Tipo de Datos\": \"Cualitativos\",\n",
    "        \"Escala de Medición\": \"Nominal\"\n",
    "    }\n",
    "}\n",
    "\n",
    "# Imprimir las respuestas\n",
    "for pregunta, info in respuesta_encuesta.items():\n",
    "    print(pregunta)\n",
    "    for clave, valor in info.items():\n",
    "        print(f\"  - {clave}: {valor}\")\n",
    "    print()"
   ]
  },
  {
   "cell_type": "markdown",
   "id": "a2358b28",
   "metadata": {},
   "source": [
    "<span style=\"color: #009929;\">**Ejercicio 11.**  </span> Determine si cada una de las variables siguientes es categórica o cuantitativa, e indique su escala de medición.<br>\n",
    "\n",
    "_a)_ Ventas anuales.<br>\n",
    "_b)_ Tamaño de bebida refrescante (pequeño, mediano, grande).<br>\n",
    "_c)_ Clasificación de empleados (de gs1 a gs18).<br>\n",
    "_d)_ Utilidades por acción.<br>\n",
    "_e)_ Método de pago (efectivo, cheques, tarjeta de crédito).<br>"
   ]
  },
  {
   "cell_type": "code",
   "execution_count": 4,
   "id": "bd19d770",
   "metadata": {},
   "outputs": [
    {
     "name": "stdout",
     "output_type": "stream",
     "text": [
      "a. Ventas anuales\n",
      "\n",
      "  - Tipo de Dato: Cuantitativo\n",
      "\n",
      "  - Escala de Medición: Razón\n",
      "\n",
      "\n",
      "\n",
      "b. Tamaño de los refrescos (pequeño, mediano, grande)\n",
      "\n",
      "  - Tipo de Dato: Cualitativo\n",
      "\n",
      "  - Escala de Medición: Ordinal\n",
      "\n",
      "\n",
      "\n",
      "c. Clasificación como empleado (GS 1 a GS 18)\n",
      "\n",
      "  - Tipo de Dato: Cuantitativo\n",
      "\n",
      "  - Escala de Medición: Ordinal\n",
      "\n",
      "\n",
      "\n",
      "d. Ganancia por acción\n",
      "\n",
      "  - Tipo de Dato: Cuantitativo\n",
      "\n",
      "  - Escala de Medición: Razón\n",
      "\n",
      "\n",
      "\n",
      "e. Modo de pago (al contado, cheque, tarjeta de crédito)\n",
      "\n",
      "  - Tipo de Dato: Cualitativo\n",
      "\n",
      "  - Escala de Medición: Nominal\n",
      "\n",
      "\n"
     ]
    }
   ],
   "source": [
    "# Creando un diccionario con las variables y sus respectivas clasificaciones\n",
    "clasificacion_variables = {\n",
    "    \"a. Ventas anuales\": {\n",
    "        \"Tipo de Dato\": \"Cuantitativo\",\n",
    "        \"Escala de Medición\": \"Razón\"\n",
    "    },\n",
    "    \"b. Tamaño de los refrescos (pequeño, mediano, grande)\": {\n",
    "        \"Tipo de Dato\": \"Cualitativo\",\n",
    "        \"Escala de Medición\": \"Ordinal\"\n",
    "    },\n",
    "    \"c. Clasificación como empleado (GS 1 a GS 18)\": {\n",
    "        \"Tipo de Dato\": \"Cuantitativo\",\n",
    "        \"Escala de Medición\": \"Ordinal\"\n",
    "    },\n",
    "    \"d. Ganancia por acción\": {\n",
    "        \"Tipo de Dato\": \"Cuantitativo\",\n",
    "        \"Escala de Medición\": \"Razón\"\n",
    "    },\n",
    "    \"e. Modo de pago (al contado, cheque, tarjeta de crédito)\": {\n",
    "        \"Tipo de Dato\": \"Cualitativo\",\n",
    "        \"Escala de Medición\": \"Nominal\"\n",
    "    }\n",
    "}\n",
    "\n",
    "# Imprimir las clasificaciones\n",
    "for variable, info in clasificacion_variables.items():\n",
    "    print(variable)\n",
    "    for clave, valor in info.items():\n",
    "        print(f\"  - {clave}: {valor}\")\n",
    "    print()\n"
   ]
  },
  {
   "cell_type": "markdown",
   "id": "22612e2d",
   "metadata": {},
   "source": [
    "<span style=\"color: #009929;\">**Ejercicio 12.**  </span> La agencia Hawaii Visitors Bureau recaba datos sobre los visitantes a Hawaii. Las preguntas siguientes se incluyeron entre las 16 formuladas en un cuestionario que se proporcionó a los pasajeros durante los vuelos entrantes de la aerolínea en junio de 2003.<br>\n",
    "- Este viaje a Hawaii es mi: 1o., 2o., 3o., 4o., etcétera.\n",
    "- La razón principal para este viaje es: (10 categorías que incluyen vacaciones, convención, luna de miel).\n",
    "- Dónde planeo hospedarme: (11 categorías que incluyen hotel, departamento, parientes, acampar).\n",
    "- Días totales en Hawaii.<br>\n",
    "\n",
    "_a)_ ¿Qué población se estudia? <br>\n",
    "_b)_ ¿El uso de un cuestionario es una buena manera de llegar a la población de pasajeros en los vuelos de aerolíneas entrantes? <br>\n",
    "_c)_ Comente si cada una de las cuatro preguntas le proporcionará datos categóricos o cuantitativos. <br>"
   ]
  },
  {
   "cell_type": "code",
   "execution_count": 5,
   "id": "1c37ac0d",
   "metadata": {},
   "outputs": [
    {
     "name": "stdout",
     "output_type": "stream",
     "text": [
      "a: La población que se estudia son todos los pasajeros de un vuelo de llegada a Hawai en junio de 2003.\n",
      "\n",
      "b: El uso de un cuestionario puede ser una buena manera de obtener información de los pasajeros en los vuelos de llegada, ya que permite recopilar datos estandarizados de una muestra representativa de manera eficiente.\n",
      "\n",
      "c:\n",
      "\n",
      "  - Este viaje a Hawai es mi 1o., 2o., 3o., 4o. etc.: Cuantitativo - Datos de conteo que representan la frecuencia de visitas.\n",
      "\n",
      "  - La principal razón de este viaje es:: Cualitativo - Datos categóricos que representan la razón del viaje.\n",
      "\n",
      "  - Dónde voy a alojarme:: Cualitativo - Datos categóricos que representan el tipo de alojamiento.\n",
      "\n",
      "  - Total de días en Hawai: Cuantitativo - Datos numéricos que representan la duración de la estancia.\n"
     ]
    }
   ],
   "source": [
    "# Definición de las respuestas\n",
    "respuestas = {\n",
    "    'a': \"La población que se estudia son todos los pasajeros de un vuelo de llegada a Hawai en junio de 2003.\",\n",
    "    'b': \"El uso de un cuestionario puede ser una buena manera de obtener información de los pasajeros en los vuelos de llegada, ya que permite recopilar datos estandarizados de una muestra representativa de manera eficiente.\",\n",
    "    'c': {\n",
    "        'Este viaje a Hawai es mi 1o., 2o., 3o., 4o. etc.': 'Cuantitativo - Datos de conteo que representan la frecuencia de visitas.',\n",
    "        'La principal razón de este viaje es:': 'Cualitativo - Datos categóricos que representan la razón del viaje.',\n",
    "        'Dónde voy a alojarme:': 'Cualitativo - Datos categóricos que representan el tipo de alojamiento.',\n",
    "        'Total de días en Hawai': 'Cuantitativo - Datos numéricos que representan la duración de la estancia.'\n",
    "    }\n",
    "}\n",
    "\n",
    "# Imprimir las respuestas\n",
    "for pregunta, respuesta in respuestas.items():\n",
    "    if isinstance(respuesta, dict):\n",
    "        print(f'{pregunta}:')\n",
    "        for subpregunta, subrespuesta in respuesta.items():\n",
    "            print(f'  - {subpregunta}: {subrespuesta}')\n",
    "    else:\n",
    "        print(f'{pregunta}: {respuesta}')\n"
   ]
  },
  {
   "cell_type": "markdown",
   "id": "3bd98c5a",
   "metadata": {},
   "source": [
    "<span style=\"color: #009929;\">**Ejercicio 13.**  </span> . La figura 1.8 proporciona una gráfica de barras que muestra la cantidad de gasto federal para los años 2002 a 2008 (USA Today, 5 de febrero de 2008).<br>\n",
    "\n",
    "_a)_ ¿Cuál es la variable de interés? <br>\n",
    "_b)_ ¿Los datos son categóricos o cuantitativos? <br>\n",
    "_c)_ ¿Los datos son series de tiempo o de corte transversal? <br>\n",
    "_d)_ Comente sobre la tendencia en el gasto federal con respecto al tiempo. <br>"
   ]
  },
  {
   "cell_type": "markdown",
   "id": "3ee28cc8-0d42-4a1d-9f7d-c68decf4237a",
   "metadata": {
    "slideshow": {
     "slide_type": ""
    }
   },
   "source": [
    "<span style=\"color: #009929;\"> **Figura 1.8** Gastos Federales </span>"
   ]
  },
  {
   "cell_type": "code",
   "execution_count": 64,
   "id": "2d525aa0",
   "metadata": {
    "slideshow": {
     "slide_type": ""
    }
   },
   "outputs": [
    {
     "data": {
      "image/png": "[encoded data removed]",
      "text/plain": [
       "<Figure size 1000x500 with 1 Axes>"
      ]
     },
     "metadata": {},
     "output_type": "display_data"
    }
   ],
   "source": [
    "import matplotlib.pyplot as plt\n",
    "\n",
    "# Asumiendo que tenemos los siguientes datos ficticios para las ganancias de millones de euros\n",
    "# Estos valores son inventados y no reflejan los datos de la imagen real\n",
    "ganancias = [2.0, 2.2, 2.3, 2.4,2.6, 2.7, 2.9]\n",
    "años = ['2002', '2003', '2004', '2005','2006','2007','2008']\n",
    "\n",
    "# Crear una gráfica de barras\n",
    "plt.figure(figsize=(10, 5))\n",
    "plt.bar(años, ganancias, color='#5CCB5F', edgecolor='black',linewidth=1.5, width=0.45)\n",
    "plt.xlabel('Año',fontsize=10, fontweight='bold')\n",
    "plt.ylabel('Gasto federal ($billones)',fontsize=10, fontweight='bold')\n",
    "plt.xticks(rotation=45)\n",
    "\n",
    "ax = plt.gca()\n",
    "ax.set_facecolor('#D4F8B7')  # Color de fondo claro\n",
    "fig = plt.gcf()\n",
    "fig.patch.set_facecolor('#D4F8B7')  # Color de fondo para la figura\n",
    "\n",
    "plt.tight_layout()\n"
   ]
  },
  {
   "cell_type": "code",
   "execution_count": 56,
   "id": "03d0fde4-cd9c-4cb4-94fd-839fa770392e",
   "metadata": {
    "slideshow": {
     "slide_type": ""
    }
   },
   "outputs": [
    {
     "name": "stdout",
     "output_type": "stream",
     "text": [
      "a: La variable de interés sería la cantidad de gasto federal.\n",
      "b: Para determinar si los datos son categóricos o cuantitativos, necesitaría saber si la cantidad de gasto federal se mide en términos de cantidades numéricas (cuantitativo) o si se clasifica en categorías (categórico). Si la cantidad se expresa en números, entonces es cuantitativa.\n",
      "c: La distinción entre series de tiempo y datos de corte transversal depende de cómo se recopilan los datos. Si la información se recopila a lo largo del tiempo para los años 2002 a 2008, entonces se trata de datos de series temporales.\n",
      "d: La tendencia en el gasto federal con respecto al tiempo puede ser evaluada observando la dirección general de los datos a lo largo de los años. Si la cantidad de gasto federal aumenta o disminuye de manera consistente a medida que pasa el tiempo, se puede identificar una tendencia.\n"
     ]
    }
   ],
   "source": [
    "\n",
    "respuestas = {\n",
    "    'a': \"La variable de interés sería la cantidad de gasto federal.\",\n",
    "    'b': \"Para determinar si los datos son categóricos o cuantitativos, necesitaría saber si la cantidad de gasto federal se mide en términos de cantidades numéricas (cuantitativo) o si se clasifica en categorías (categórico). Si la cantidad se expresa en números, entonces es cuantitativa.\",\n",
    "    'c': \"La distinción entre series de tiempo y datos de corte transversal depende de cómo se recopilan los datos. Si la información se recopila a lo largo del tiempo para los años 2002 a 2008, entonces se trata de datos de series temporales.\",\n",
    "    'd': \"La tendencia en el gasto federal con respecto al tiempo puede ser evaluada observando la dirección general de los datos a lo largo de los años. Si la cantidad de gasto federal aumenta o disminuye de manera consistente a medida que pasa el tiempo, se puede identificar una tendencia.\"\n",
    "}\n",
    "# Imprimir las respuestas\n",
    "for pregunta, respuesta in respuestas.items():\n",
    "    print(f'{pregunta}: {respuesta}')"
   ]
  },
  {
   "cell_type": "markdown",
   "id": "70b271b5",
   "metadata": {},
   "source": [
    "<span style=\"color: #009929;\">**Ejercicio 14.**  </span>CSM Worldwide efectúa pronósticos de la producción global para todos los fabricantes de automóviles. Los siguientes datos de CSM muestran el pronóstico de la producción global de automóviles para General Motors, Ford, DaimlerChrysler y Toyota para los años 2004 a 2007 (USA Today, 21 de diciembre de 2005). Los datos están en millones de vehículos.\n",
    "\n",
    "_a)_ Elabore una gráfica de series de tiempo para los años 2004 a 2007 que muestre el número de vehículos fabricados por cada compañía automotriz. Muestre las series de tiempo para los cuatro fabricantes en la misma gráfica. <br>\n",
    "_b)_ General Motors ha sido el líder indiscutible en la producción de automóviles desde 1931. ¿Qué muestra la gráfica de serie de tiempo sobre cuál es la compañía automotriz más importante del mundo? Comente. <br>\n",
    "_c)_ Elabore una gráfica de barras que muestre los vehículos producidos por los fabricantes de automóviles usando los datos de 2007. ¿Esta gráfica se basa en datos de corte transversal o de series de tiempo? <br>"
   ]
  },
  {
   "cell_type": "code",
   "execution_count": 18,
   "id": "6dd4a0d2",
   "metadata": {
    "slideshow": {
     "slide_type": ""
    }
   },
   "outputs": [
    {
     "data": {
      "image/png": "[encoded data removed]",
      "text/plain": [
       "<Figure size 1000x500 with 1 Axes>"
      ]
     },
     "metadata": {},
     "output_type": "display_data"
    },
    {
     "name": "stdout",
     "output_type": "stream",
     "text": [
      "a: La gráfica de series de tiempo para los años 2004 a 2007 se ha generado arriba.\n",
      "b: Según la gráfica, Toyota ha mostrado un aumento significativo en la producción y es el mayor productor en 2007.\n",
      "c: La gráfica de sección transversal para el año 2007 mostraría la producción de vehículos de ese año para cada fabricante. Los datos son de sección transversal porque representan un corte en un punto en el tiempo, en este caso, el año 2007.\n"
     ]
    }
   ],
   "source": [
    "import matplotlib.pyplot as plt\n",
    "import pandas as pd\n",
    "\n",
    "# Datos de producción de vehículos por fabricante y año\n",
    "datos_produccion = {\n",
    "    'General Motors': {'2004': 8.9, '2005': 9.0, '2006': 8.9, '2007': 8.8},\n",
    "    'Ford': {'2004': 7.8, '2005': 7.7, '2006': 7.8, '2007': 7.9},\n",
    "    'DaimlerChrysler': {'2004': 4.1, '2005': 4.2, '2006': 4.3, '2007': 4.6},\n",
    "    'Toyota': {'2004': 7.8, '2005': 8.3, '2006': 9.1, '2007': 9.6},\n",
    "}\n",
    "\n",
    "# Convertir los datos a un DataFrame\n",
    "df_produccion = pd.DataFrame(datos_produccion)\n",
    "\n",
    "\n",
    "# Crear una gráfica de líneas para cada fabricante\n",
    "plt.figure(figsize=(10, 5),facecolor='#D4F8B7')\n",
    "for fabricante in df_produccion.columns:\n",
    "    plt.plot(df_produccion.index, df_produccion[fabricante], marker='o', label=fabricante)\n",
    "\n",
    "plt.title('Producción de Vehículos (2004-2007)')\n",
    "plt.xlabel('Año')\n",
    "plt.ylabel('Producción (en millones)')\n",
    "plt.legend()\n",
    "plt.grid(True)\n",
    "plt.tight_layout()\n",
    "\n",
    "# Guardar la gráfica en un archivo\n",
    "plt.savefig('produccion_vehiculos.png')\n",
    "plt.show()\n",
    "\n",
    "# Respuestas a las preguntas\n",
    "respuestas = {\n",
    "    'a': \"La gráfica de series de tiempo para los años 2004 a 2007 se ha generado arriba.\",\n",
    "    'b': \"Según la gráfica, Toyota ha mostrado un aumento significativo en la producción y es el mayor productor en 2007.\",\n",
    "    'c': \"La gráfica de sección transversal para el año 2007 mostraría la producción de vehículos de ese año para cada fabricante. Los datos son de sección transversal porque representan un corte en un punto en el tiempo, en este caso, el año 2007.\"\n",
    "}\n",
    "\n",
    "# Imprimir las respuestas\n",
    "for pregunta, respuesta in respuestas.items():\n",
    "    print(f'{pregunta}: {respuesta}')"
   ]
  },
  {
   "cell_type": "markdown",
   "id": "37bdeda8",
   "metadata": {
    "slideshow": {
     "slide_type": ""
    }
   },
   "source": [
    "<span style=\"color: #009929;\">**Ejercicio 15.**  </span> La Food and Drug Administration (Administración de Alimentos y Fármacos, FDA) reportó el número de fármacos nuevos aprobados durante un periodo de ocho años (The Wall Street Journal, 12 de enero de 2004). La figura 1.9 muestra una gráfica de barras que resume el número de medicamentos nuevos aprobado cada año.<br>\n",
    "\n",
    "_a)_ ¿Los datos son categóricos o cuantitativos? <br>\n",
    "_b)_ ¿Los datos son de series de tiempo o de corte transversal? <br>\n",
    "_c)_ ¿Cuántos medicamentos nuevos se aprobaron en 2003? <br>\n",
    "_d)_ ¿En qué año se aprobó el menor número de fármacos nuevos? ¿Cuántos fueron? <br>\n",
    "_e)_ Comente la tendencia en el número de medicamentos nuevos aprobados por la fda durante el periodo de ocho años.\n",
    "<br>"
   ]
  },
  {
   "cell_type": "markdown",
   "id": "d3ed17e6-22fc-40b5-9e1d-a5172766897e",
   "metadata": {},
   "source": [
    "<span style=\"color: #009929;\"> **Figura 1.9** Número de fármacos nuevos aprobados por la FDA </span>"
   ]
  },
  {
   "cell_type": "code",
   "execution_count": 61,
   "id": "b584c321",
   "metadata": {
    "slideshow": {
     "slide_type": ""
    }
   },
   "outputs": [
    {
     "data": {
      "image/png": "[encoded data removed]",
      "text/plain": [
       "<Figure size 1000x500 with 1 Axes>"
      ]
     },
     "metadata": {},
     "output_type": "display_data"
    },
    {
     "name": "stdout",
     "output_type": "stream",
     "text": [
      "a: Los datos son cuantitativos, ya que representan conteos numéricos de eventos.\n",
      "b: Son datos de series de tiempo, porque se registran a lo largo de varios años consecutivos.\n",
      "c: En 2003, fueron aprobados 18 medicamentos.\n",
      "d: El año con menos medicamentos aprobados es 2003 con 18 medicamentos.\n",
      "e: Se necesitaría analizar la gráfica generada para comentar sobre la tendencia.\n"
     ]
    }
   ],
   "source": [
    "import matplotlib.pyplot as plt\n",
    "\n",
    "# Asumiendo que tenemos los siguientes datos ficticios que representan la cantidad de medicamentos nuevos\n",
    "# aprobados por la FDA de 1996 a 2003. Estos valores son inventados para el propósito de este ejemplo.\n",
    "datos_medicamentos = {\n",
    "    'Año': ['1996', '1997', '1998', '1999', '2000', '2001', '2002', '2003'],\n",
    "    'Cantidad de medicamentos nuevos': [52, 45, 35, 38, 32, 28, 23, 18]  # Estos datos son hipotéticos\n",
    "}\n",
    "\n",
    "# Crear una gráfica de barras para representar los datos\n",
    "plt.figure(figsize=(10, 5),facecolor='#D4F8B7')\n",
    "plt.bar(datos_medicamentos['Año'], datos_medicamentos['Cantidad de medicamentos nuevos'], color='#5CCB5f',edgecolor='black',linewidth=1.5, width=0.45)\n",
    "plt.xlabel('Año',fontsize=10, fontweight='bold')\n",
    "plt.ylabel('Cantidad de Medicamentos Nuevos',fontsize=10, fontweight='bold')\n",
    "plt.tight_layout()\n",
    "\n",
    "# Mostrar la gráfica\n",
    "plt.show()\n",
    "\n",
    "# Encontrar el año con el menor número de medicamentos aprobados\n",
    "min_medicamentos = min(datos_medicamentos['Cantidad de medicamentos nuevos'])\n",
    "año_min_medicamentos = datos_medicamentos['Año'][datos_medicamentos['Cantidad de medicamentos nuevos'].index(min_medicamentos)]\n",
    "\n",
    "# Respuestas a las preguntas\n",
    "respuestas = {\n",
    "    'a': \"Los datos son cuantitativos, ya que representan conteos numéricos de eventos.\",\n",
    "    'b': \"Son datos de series de tiempo, porque se registran a lo largo de varios años consecutivos.\",\n",
    "    'c': f\"En 2003, fueron aprobados {datos_medicamentos['Cantidad de medicamentos nuevos'][-1]} medicamentos.\",  # Asumiendo que el último valor corresponde a 2003\n",
    "    'd': f\"El año con menos medicamentos aprobados es {año_min_medicamentos} con {min_medicamentos} medicamentos.\",\n",
    "    'e': \"Se necesitaría analizar la gráfica generada para comentar sobre la tendencia.\"\n",
    "}\n",
    "\n",
    "# Imprimir las respuestas\n",
    "for pregunta, respuesta in respuestas.items():\n",
    "    print(f'{pregunta}: {respuesta}')"
   ]
  },
  {
   "cell_type": "markdown",
   "id": "f5fd8764",
   "metadata": {
    "slideshow": {
     "slide_type": ""
    }
   },
   "source": [
    "<span style=\"color: #009929;\">**Ejercicio 16.**  </span> La Oficina de Información del Departamento de Energía de Estados Unidos proporcionó datos de series de tiempo para el precio promedio de gasolina regular convencional en dólares por galón entre julio de 2006 y junio de 2009 (sitio web Energy Information Administration, junio de 2009). Use Internet para obtener el precio medio por galón de gasolina regular convencional desde junio de 2009.<br>\n",
    "\n",
    "_a)_ Amplíe la gráfica de la serie de tiempo mostrada en la figura 1.1. <br>\n",
    "_b)_ ¿Qué interpretaciones puede hacer acerca del precio por galón de gasolina regular convencional desde junio de 2009? <br>\n",
    "_c)_ ¿La serie de tiempo sigue mostrando un incremento en verano en el precio promedio por galón? Explique por qué. <br>"
   ]
  },
  {
   "cell_type": "code",
   "execution_count": 63,
   "id": "59a8994a",
   "metadata": {},
   "outputs": [
    {
     "name": "stdout",
     "output_type": "stream",
     "text": [
      "a: el sitio web de la Energy Information Administration proporciona información sobre los precios de la gasolina en los Estados Unidos. Según el RACE, el precio de la gasolina regular en los Estados Unidos es de $2.99 por galón el 28 de noviembre de 2023.\n",
      "\n",
      "b:  Interpretaciones sobre el precio por galón de gasolina regular convencional desde junio de 2009 pueden incluir análisis de tendencias a largo plazo, identificación de picos y valles, y evaluación de factores económicos y eventos mundiales que podrían haber afectado los precios del petróleo y, por ende, los precios de la gasolina.\n",
      "\n",
      "c: Respecto a si la serie de tiempo muestra un incremento en verano en el precio promedio por galón, podrías realizar un análisis estacional para determinar patrones recurrentes en diferentes períodos del año. Los precios de la gasolina a menudo tienden a aumentar durante la temporada de viajes de verano debido a la mayor demanda de combustible. Sin embargo, esto puede variar según la región y otros factores económicos.\n",
      "\n"
     ]
    }
   ],
   "source": [
    "# Definición de respuestas para la planificación de marketing de un nuevo refresco dietético\n",
    "respuestas = {\n",
    "    'a': (\"el sitio web de la Energy Information Administration proporciona información sobre los precios de la gasolina en los Estados Unidos. Según el RACE, el precio de la gasolina regular en los Estados Unidos es de $2.99 por galón el 28 de noviembre de 2023.\"),\n",
    "    'b': (\" Interpretaciones sobre el precio por galón de gasolina regular convencional desde junio de 2009 pueden incluir análisis de tendencias a largo plazo, identificación de picos y valles, y evaluación de factores económicos y eventos mundiales que podrían haber afectado los precios del petróleo y, por ende, los precios de la gasolina.\"),\n",
    "    'c': (\"Respecto a si la serie de tiempo muestra un incremento en verano en el precio promedio por galón, podrías realizar un análisis estacional para determinar patrones recurrentes en diferentes períodos del año. Los precios de la gasolina a menudo tienden a aumentar durante la temporada de viajes de verano debido a la mayor demanda de combustible. Sin embargo, esto puede variar según la región y otros factores económicos.\")\n",
    "}\n",
    "\n",
    "# Imprimir las respuestas\n",
    "for pregunta, respuesta in respuestas.items():\n",
    "    print(f'{pregunta}: {respuesta}\\n')"
   ]
  },
  {
   "cell_type": "markdown",
   "id": "4ac87962",
   "metadata": {},
   "source": [
    "<span style=\"color: #009929;\">**Ejercicio 17.**  </span> Un gerente de una corporación grande recomienda que se otorgue un aumento de sueldo de $10 000 para evitar que un subordinado valioso se vaya a otra empresa. ¿Qué fuentes de datos internas y externas podrían usarse para decidir si es apropiado este incremento?"
   ]
  },
  {
   "cell_type": "markdown",
   "id": "214959e6-b58e-40a8-a543-7dd844592137",
   "metadata": {},
   "source": [
    "Para decidir si es apropiado el incremento de salario, se pueden utilizar las siguientes fuentes de datos:\n",
    "1. Internas: Historial salarial del empleado, evaluaciones de rendimiento, contribuciones al éxito de la empresa, y comparación con salarios de empleados en puestos similares.\n",
    "2. Externas: Estándares de la industria para el puesto, tasas de retención de empleados en la industria, ofertas salariales de empresas competidoras y tendencias del mercado laboral."
   ]
  },
  {
   "cell_type": "markdown",
   "id": "ce49938e",
   "metadata": {
    "slideshow": {
     "slide_type": ""
    }
   },
   "source": [
    "<span style=\"color: #009929;\">**Ejercicio 18.**  </span>  Una encuesta a 430 viajeros de negocios reveló que 155 de ellos usaron una agencia para ha\u0002cer sus arreglos de viaje (USA Today, 20 de noviembre de 2003).<br>\n",
    "\n",
    "_a)_ Desarrolle una estadística descriptiva que se pueda usar para estimar el porcentaje de todos los viajeros de negocios que contratan una agencia de viajes para hacer sus arreglos respectivos. <br>\n",
    "_b)_ La encuesta reveló que la manera más frecuente en que los viajeros de negocios hacen sus arreglos de viaje es por medio de un sitio de viajes en línea. Si 44% de los encuestados preparó sus arreglos de esta manera, ¿cuántos de los 430 viajeros de egocios usaron un sitio de viajes en línea? <br>\n",
    "_c)_ ¿Los datos sobre cómo se hacen los arreglos de viaje son categóricos o cuantitativos? <br>"
   ]
  },
  {
   "cell_type": "code",
   "execution_count": 1,
   "id": "24065055",
   "metadata": {},
   "outputs": [
    {
     "name": "stdout",
     "output_type": "stream",
     "text": [
      "Porcentaje de viajeros que usaron una agencia de viajes: 36.04651162790697\n",
      "Número de viajeros que usaron un sitio de viajes en línea: 189.2\n",
      "Tipo de datos: categórico\n"
     ]
    }
   ],
   "source": [
    "def porcentaje_usaron_agencia(n_total, n_usaron_agencia):\n",
    "  \"\"\"\n",
    "  Calcula el porcentaje de viajeros que utilizaron una agencia de viajes.\n",
    "\n",
    "  Args:\n",
    "    n_total: El número total de viajeros.\n",
    "    n_usaron_agencia: El número de viajeros que utilizaron una agencia de viajes.\n",
    "\n",
    "  Returns:\n",
    "    El porcentaje de viajeros que utilizaron una agencia de viajes.\n",
    "  \"\"\"\n",
    "\n",
    "  return n_usaron_agencia / n_total * 100\n",
    "\n",
    "\n",
    "n_total = 430\n",
    "n_usaron_agencia = 155\n",
    "\n",
    "porcentaje_usaron_agencia = porcentaje_usaron_agencia(n_total, n_usaron_agencia)\n",
    "\n",
    "print(\"Porcentaje de viajeros que usaron una agencia de viajes:\", porcentaje_usaron_agencia)\n",
    "\n",
    "def numero_viajeros_sitio_en_linea(porcentaje, n_total):\n",
    "  \"\"\"\n",
    "  Calcula el número de viajeros que utilizaron un sitio de viajes en línea.\n",
    "\n",
    "  Args:\n",
    "    porcentaje: El porcentaje de viajeros que utilizaron un sitio de viajes en línea.\n",
    "    n_total: El número total de viajeros.\n",
    "\n",
    "  Returns:\n",
    "    El número de viajeros que utilizaron un sitio de viajes en línea.\n",
    "  \"\"\"\n",
    "\n",
    "  return porcentaje * n_total\n",
    "\n",
    "\n",
    "porcentaje = 0.44\n",
    "n_total = 430\n",
    "\n",
    "n_usaron_sitio_en_linea = numero_viajeros_sitio_en_linea(porcentaje, n_total)\n",
    "\n",
    "print(\"Número de viajeros que usaron un sitio de viajes en línea:\", n_usaron_sitio_en_linea)\n",
    "\n",
    "def tipo_datos(datos):\n",
    "  \"\"\"\n",
    "  Determina el tipo de datos de un conjunto de datos.\n",
    "\n",
    "  Args:\n",
    "    datos: El conjunto de datos a analizar.\n",
    "\n",
    "  Returns:\n",
    "    El tipo de datos del conjunto de datos.\n",
    "  \"\"\"\n",
    "\n",
    "  if isinstance(datos[0], str):\n",
    "    return \"categórico\"\n",
    "  else:\n",
    "    return \"numérico\"\n",
    "\n",
    "\n",
    "datos = [\"agencia de viajes\", \"sitio de viajes en línea\", \"agencia de viajes\", \"sitio de viajes en línea\"]\n",
    "\n",
    "tipo_datos = tipo_datos(datos)\n",
    "\n",
    "print(\"Tipo de datos:\", tipo_datos)"
   ]
  },
  {
   "cell_type": "markdown",
   "id": "a658dd99",
   "metadata": {},
   "source": [
    "<span style=\"color: #009929;\">**Ejercicio 19.**  </span> Un estudio sobre los suscriptores de BusinessWeek en Norteamérica recabó datos de una mues\u0002tra de 2 861 clientes. El 59% de los encuestados indicó un ingreso anual de $75 000 o más, y \n",
    "50% informó tener una tarjeta de crédito de American Express.<br>\n",
    "\n",
    "_a)_ ¿Cuál es la población de interés en este estudio? <br>\n",
    "_b)_ ¿El ingreso anual es una variable categórica o cuantitativa? <br>\n",
    "_c)_ ¿La propiedad de una tarjeta American Express es una variable categórica o cuantitativa? <br>\n",
    "_d)_ ¿Este estudio involucra datos de corte transversal o de series de tiempo? <br>\n",
    "_e)_ Describa cualquier inferencia estadística que BusinessWeek podría hacer sobre la base de la encuesta. <br>"
   ]
  },
  {
   "cell_type": "code",
   "execution_count": 2,
   "id": "c64e1590",
   "metadata": {},
   "outputs": [
    {
     "name": "stdout",
     "output_type": "stream",
     "text": [
      "Proporción de suscriptores con un ingreso anual de $75 000 o más: 0.7\n",
      "Proporción de suscriptores con una tarjeta de crédito de American Express: 0.7\n",
      "Correlación entre el ingreso anual y la propiedad de una tarjeta American Express: -0.42857142857142844\n"
     ]
    }
   ],
   "source": [
    "import numpy as np\n",
    "\n",
    "# Datos de la encuesta\n",
    "ingreso_anual = np.array([1, 0, 1, 1, 0, 1, 1, 1, 0, 1])\n",
    "tarjeta_amex = np.array([1, 1, 0, 0, 1, 0, 1, 1, 1, 1])\n",
    "\n",
    "# Obtener la proporción de suscriptores con un ingreso anual de $75 000 o más\n",
    "proporcion_ingreso_alto = np.sum(ingreso_anual) / len(ingreso_anual)\n",
    "\n",
    "# Obtener la proporción de suscriptores con una tarjeta de crédito de American Express\n",
    "proporcion_tarjeta_amex = np.sum(tarjeta_amex) / len(tarjeta_amex)\n",
    "\n",
    "# Imprimir las proporciones\n",
    "print(\"Proporción de suscriptores con un ingreso anual de $75 000 o más:\", proporcion_ingreso_alto)\n",
    "print(\"Proporción de suscriptores con una tarjeta de crédito de American Express:\", proporcion_tarjeta_amex)\n",
    "\n",
    "# Calcular la correlación entre el ingreso anual y la propiedad de una tarjeta American Express\n",
    "correlacion = np.corrcoef(ingreso_anual, tarjeta_amex)[0, 1]\n",
    "\n",
    "# Imprimir la correlación\n",
    "print(\"Correlación entre el ingreso anual y la propiedad de una tarjeta American Express:\", correlacion)"
   ]
  },
  {
   "cell_type": "markdown",
   "id": "3bc1aa45",
   "metadata": {},
   "source": [
    "<span style=\"color: #009929;\">**Ejercicio 20.**  </span> Una consulta a 131 administradores de inversiones en la encuesta Big Money de Barron reveló lo siguiente: <br>\n",
    "\n",
    "- 43% de los gerentes se clasificó a sí mismo como a la alza o muy a la alza en el mercado de valores.\n",
    "- El rendimiento promedio esperado durante los 12 meses siguientes para los valores de renta variable fue 11.2%.\n",
    "- El 21% seleccionó la asistencia médica como el sector con más probabilidades de dirigir el mercado en los 12 meses siguientes.\n",
    "- Cuando se les pidió que estimaran cuánto tiempo tardarían las acciones de tecnología y telecomunicaciones en reanudar un crecimiento sostenido, la respuesta promedio de los gerentes fue 2.5 años.\n",
    "\n",
    "_a)_ Cite dos estadísticas descriptivas. <br>\n",
    "_b)_ Desarrolle una inferencia sobre la población de todos los administradores de inversiones con respecto al rendimiento promedio esperado sobre los valores de renta variable durante los 12 meses siguientes. <br>\n",
    "_c)_ Haga una inferencia sobre el tiempo que tardarán las acciones de tecnología y telecomunicaciones en reanudar un crecimiento sostenido <br>"
   ]
  },
  {
   "cell_type": "code",
   "execution_count": 3,
   "id": "424c6349",
   "metadata": {},
   "outputs": [
    {
     "name": "stdout",
     "output_type": "stream",
     "text": [
      "Proporción de administradores de inversiones a la alza: 0.6\n",
      "Rendimiento promedio esperado: 10.919999999999998\n",
      "Intervalo de confianza para el rendimiento promedio esperado: (10.707450673960135, 11.132549326039861)\n",
      "Tiempo promedio de recuperación: 2.8\n",
      "Intervalo de confianza para el tiempo promedio de recuperación: (2.5722685792430036, 3.027731420756996)\n"
     ]
    }
   ],
   "source": [
    "import numpy as np\n",
    "\n",
    "# Datos de la encuesta\n",
    "clasificacion_mercado = np.array([1, 1, 1, 1, 1, 1, 0, 0, 0, 0])\n",
    "rendimiento_esperado = np.array([11.2, 11.2, 11.2, 11.2, 11.2, 11.2, 10.5, 10.5, 10.5, 10.5])\n",
    "tiempo_recuperacion = np.array([2.5, 2.5, 2.5, 2.5, 2.5, 2.5, 3.25, 3.25, 3.25, 3.25])\n",
    "\n",
    "# Obtener la proporción de administradores de inversiones que se clasifican a sí mismos como a la alza o muy a la alza\n",
    "proporcion_alza = np.sum(clasificacion_mercado) / len(clasificacion_mercado)\n",
    "\n",
    "# Obtener el rendimiento promedio esperado\n",
    "rendimiento_promedio = np.mean(rendimiento_esperado)\n",
    "\n",
    "# Obtener el intervalo de confianza para el rendimiento promedio esperado\n",
    "intervalo_confianza = 1.96 * np.std(rendimiento_esperado) / np.sqrt(len(rendimiento_esperado))\n",
    "\n",
    "# Imprimir la proporción de administradores de inversiones que se clasifican a sí mismos como a la alza o muy a la alza\n",
    "print(\"Proporción de administradores de inversiones a la alza:\", proporcion_alza)\n",
    "\n",
    "# Imprimir el rendimiento promedio esperado\n",
    "print(\"Rendimiento promedio esperado:\", rendimiento_promedio)\n",
    "\n",
    "# Imprimir el intervalo de confianza para el rendimiento promedio esperado\n",
    "print(\"Intervalo de confianza para el rendimiento promedio esperado:\", (rendimiento_promedio - intervalo_confianza, rendimiento_promedio + intervalo_confianza))\n",
    "\n",
    "# Obtener el tiempo promedio de recuperación\n",
    "tiempo_promedio = np.mean(tiempo_recuperacion)\n",
    "\n",
    "# Obtener el intervalo de confianza para el tiempo promedio de recuperación\n",
    "intervalo_confianza = 1.96 * np.std(tiempo_recuperacion) / np.sqrt(len(tiempo_recuperacion))\n",
    "\n",
    "# Imprimir el tiempo promedio de recuperación\n",
    "print(\"Tiempo promedio de recuperación:\", tiempo_promedio)\n",
    "\n",
    "# Imprimir el intervalo de confianza para el tiempo promedio de recuperación\n",
    "print(\"Intervalo de confianza para el tiempo promedio de recuperación:\", (tiempo_promedio - intervalo_confianza, tiempo_promedio + intervalo_confianza))"
   ]
  },
  {
   "cell_type": "markdown",
   "id": "d77264d1",
   "metadata": {},
   "source": [
    "<span style=\"color: #009929;\">**Ejercicio 21.**  </span> Un estudio de investigación médica de siete años reveló que las mujeres cuyas madres toma\u0002ron el fármaco DES durante el embarazo, respecto de las mujeres cuyas madres no tomaron el fármaco, tenían el doble de probabilidad de desarrollar anormalidades en el tejido que podrían provocar cáncer.<br>\n",
    "\n",
    "_a)_ Este estudio involucró la comparación de dos poblaciones. ¿Cuáles fueron éstas? <br>\n",
    "_b)_ ¿Dónde supone usted que se obtuvieron los datos: en una encuesta o en un experimento? <br>\n",
    "_c)_ Para la población de mujeres cuyas madres tomaron el fármaco DES durante el embarazo, una muestra de 3 980 mujeres mostró que 63 desarrollaron anormalidades en el tejido que podrían provocar cáncer. Proporcione una estadística descriptiva que podría usarse para estimar el número de mujeres por cada 1000 en esta población que presentan anormalidades en el tejido. <br>\n",
    "_d)_ Para la población de mujeres cuyas madres no tomaron el fármaco des durante el emba\u0002razo, ¿cuál es la estimación del número de mujeres por cada 1000 que esperarían presentar anormalidades en el tejido? <br>\n",
    "_e)_ Los estudios médicos usan con frecuencia una muestra relativamente grande (en este caso, 3 980). ¿Por qué? <br>"
   ]
  },
  {
   "cell_type": "code",
   "execution_count": 4,
   "id": "ad106e7e",
   "metadata": {},
   "outputs": [
    {
     "name": "stdout",
     "output_type": "stream",
     "text": [
      "Tasa de incidencia: 1.0\n",
      "Intervalo de confianza para la tasa de incidencia: (1.0, 1.0)\n"
     ]
    }
   ],
   "source": [
    "import numpy as np\n",
    "\n",
    "# Datos del estudio\n",
    "madre_des = np.array([1] * 3980)\n",
    "anormalidad = np.array([1] * 63)\n",
    "\n",
    "# Obtener la tasa de incidencia\n",
    "tasa_incidencia = np.sum(anormalidad) / len(anormalidad)\n",
    "\n",
    "# Imprimir la tasa de incidencia\n",
    "print(\"Tasa de incidencia:\", tasa_incidencia)\n",
    "\n",
    "# Obtener el intervalo de confianza para la tasa de incidencia\n",
    "intervalo_confianza = 1.96 * np.sqrt(tasa_incidencia * (1 - tasa_incidencia) / len(anormalidad))\n",
    "\n",
    "# Imprimir el intervalo de confianza para la tasa de incidencia\n",
    "print(\"Intervalo de confianza para la tasa de incidencia:\", (tasa_incidencia - intervalo_confianza, tasa_incidencia + intervalo_confianza))"
   ]
  },
  {
   "cell_type": "markdown",
   "id": "5e6a1ea1",
   "metadata": {},
   "source": [
    "<span style=\"color: #009929;\">**Ejercicio 23.**  </span> Nielsen Media Research efectúa encuestas semanales de los programas de televisión que se ven en todo Estados Unidos, y publica datos tanto de la audiencia como de la participación de mercado. El índice de audiencia de Nielsen es el porcentaje de familias con televisión que ve un programa, mientras que la participación de mercado es el porcentaje de familias que ve un programa entre aquellas con televisión en uso. Por ejemplo, los resultados de Nielsen Media Research para la Serie Mundial de Beisbol de 2003 entre los Yankees de Nueva York y los Marlins de Florida reportó una audiencia de 12.8% y una participación de 22% (Associated Press, 27 de octubre de 2003). Por tanto, 12.8% de las familias con televisión y 22% de las familias con televisión en uso vieron la Serie Mundial. Con base en la audiencia y la información de participación de los programas más importantes, Nielsen publica una calificación semanal tanto de programas de televisión como de las cuatro cadenas principales: ABC, CBS, NBC y Fox.<br>\n",
    "\n",
    "_a)_ ¿Qué intenta medir Nielsen Media Research? <br>\n",
    "_b)_ ¿Cuál es la población? <br>\n",
    "_c)_ ¿Por qué se usaría una muestra en esta situación? <br>\n",
    "_d)_ ¿Qué tipos de decisiones o acciones se basan en las calificaciones de Nielsen? <br>"
   ]
  },
  {
   "cell_type": "code",
   "execution_count": 7,
   "id": "eb130061",
   "metadata": {},
   "outputs": [
    {
     "name": "stdout",
     "output_type": "stream",
     "text": [
      "Audiencia de la muestra: 0.5\n",
      "Participación de mercado de la muestra: 0.08333333333333333\n"
     ]
    }
   ],
   "source": [
    "import numpy as np\n",
    "\n",
    "# Definir la población\n",
    "poblacion = np.array([1, 1, 1, 1, 1, 1, 0, 0, 0, 0])\n",
    "\n",
    "# Definir la muestra\n",
    "muestra = np.array([1, 1, 1, 0, 0, 0])\n",
    "\n",
    "# Obtener la audiencia de la muestra\n",
    "audiencia_muestra = np.sum(muestra) / len(muestra)\n",
    "\n",
    "# Obtener la participación de mercado de la muestra\n",
    "participacion_mercado_muestra = audiencia_muestra / np.sum(poblacion)\n",
    "\n",
    "# Imprimir los resultados\n",
    "print(\"Audiencia de la muestra:\", audiencia_muestra)\n",
    "print(\"Participación de mercado de la muestra:\", participacion_mercado_muestra)"
   ]
  },
  {
   "cell_type": "markdown",
   "id": "6d5d65fa",
   "metadata": {},
   "source": [
    "<span style=\"color: #009929;\">**Ejercicio 24.**  </span> Una muestra de las calificaciones obtenidas en los exámenes parciales de cinco estudiantes mostró los resultados siguientes: 72, 65, 82, 90 y 76. ¿Cuáles de los enunciados listados enseguida son correctos y cuáles deben considerarse demasiado generalizados?\n",
    "\n",
    "_a)_ La calificación promedio de los exámenes parciales para la muestra de cinco estudiantes es 77. <br>\n",
    "_b)_ La calificación promedio de los exámenes parciales para los cinco estudiantes que presentaron el examen es 77. <br>\n",
    "_c)_ Una estimación de la calificación promedio de los exámenes parciales para todos los estudiantes que presentaron el examen es 77 <br>\n",
    "_d)_ Más de la mitad de los estudiantes que presentaron este examen obtendrá una calificación de entre 70 y 85. <br>\n",
    "_e)_ Si otros cinco estudiantes se incluyen en la muestra, obtendrán calificaciones de entre 65 y 90. <br>"
   ]
  },
  {
   "cell_type": "code",
   "execution_count": 8,
   "id": "293b2a82",
   "metadata": {},
   "outputs": [
    {
     "name": "stdout",
     "output_type": "stream",
     "text": [
      "Calificación promedio de la muestra: 77.0\n",
      "Tamaño de la muestra: 5\n",
      "(array([1, 0, 1, 0, 1, 0, 1, 0, 0, 1], dtype=int64), array([65. , 67.5, 70. , 72.5, 75. , 77.5, 80. , 82.5, 85. , 87.5, 90. ]))\n",
      "[66 78 69 86 69]\n"
     ]
    }
   ],
   "source": [
    "import numpy as np\n",
    "\n",
    "# A)\n",
    "calificaciones = np.array([72, 65, 82, 90, 76])\n",
    "\n",
    "# Obtener la calificación promedio de la muestra\n",
    "calificacion_promedio = np.mean(calificaciones)\n",
    "\n",
    "# Imprimir la calificación promedio de la muestra\n",
    "print(\"Calificación promedio de la muestra:\", calificacion_promedio)\n",
    "\n",
    "# B)\n",
    "calificaciones = np.array([72, 65, 82, 90, 76])\n",
    "\n",
    "# Obtener el tamaño de la muestra\n",
    "tamaño_muestra = len(calificaciones)\n",
    "\n",
    "# Imprimir el tamaño de la muestra\n",
    "print(\"Tamaño de la muestra:\", tamaño_muestra)\n",
    "\n",
    "# C)\n",
    "calificaciones = np.array([72, 65, 82, 90, 76])\n",
    "\n",
    "# Obtener la distribución de las calificaciones\n",
    "distribucion_calificaciones = np.histogram(calificaciones)\n",
    "\n",
    "# Imprimir la distribución de las calificaciones\n",
    "print(distribucion_calificaciones)\n",
    "\n",
    "# D)\n",
    "calificaciones = np.array([72, 65, 82, 90, 76])\n",
    "\n",
    "# Generar cinco calificaciones adicionales\n",
    "calificaciones_adicionales = np.random.randint(65, 91, size=5)\n",
    "\n",
    "# Imprimir las calificaciones adicionales\n",
    "print(calificaciones_adicionales)"
   ]
  }
 ],
 "metadata": {
  "kernelspec": {
   "display_name": "Python 3 (ipykernel)",
   "language": "python",
   "name": "python3"
  },
  "language_info": {
   "codemirror_mode": {
    "name": "ipython",
    "version": 3
   },
   "file_extension": ".py",
   "mimetype": "text/x-python",
   "name": "python",
   "nbconvert_exporter": "python",
   "pygments_lexer": "ipython3",
   "version": "3.11.5"
  }
 },
 "nbformat": 4,
 "nbformat_minor": 5
}
